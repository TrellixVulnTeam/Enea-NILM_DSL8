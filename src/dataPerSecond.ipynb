{
 "cells": [
  {
   "cell_type": "code",
   "execution_count": 10,
   "outputs": [],
   "source": [
    "import os\n",
    "import pandas as pd\n",
    "import numpy as np\n",
    "import matplotlib.pyplot as plt"
   ],
   "metadata": {
    "collapsed": false,
    "pycharm": {
     "name": "#%%\n",
     "is_executing": false
    }
   }
  },
  {
   "cell_type": "code",
   "execution_count": 11,
   "metadata": {
    "collapsed": true,
    "pycharm": {
     "is_executing": false,
     "name": "#%%\n"
    }
   },
   "outputs": [],
   "source": [
    "from IPython.core.display import display\n",
    "def process(df,file_name,dir_path):\n",
    "    # estrazione delle colonne TIMESTAMP e POWER\n",
    "    df = df[['timestamp', 'power']]\n",
    "            \n",
    "    # conversione data dal formato unixtime\n",
    "    df['date'] = pd.to_datetime(df['timestamp'], unit='ms').dt.tz_localize(\"GMT\").dt.tz_convert('Europe/Rome')\n",
    "            \n",
    "    # arrotondamento dal ms al secondo più vicino\n",
    "    df['date'] = df['date'].dt.round('1s')\n",
    "            \n",
    "    df = df[['date', 'power']]\n",
    "            \n",
    "    # creazione time series settando la data come index\n",
    "    df = df.set_index('date')\n",
    "   \n",
    "    # osservazioni duplicate sul secondo: potenza sostituita con la media tra le 2 potenze\n",
    "    df = df.groupby('date').mean()\n",
    "                        \n",
    "    # crea nel range delle date eventuali nuovi timestamp, in modo da avere timestamp ogni secondo\n",
    "    df = df.reindex(pd.date_range(start=df.index[0], end=df.index[-1], freq='1s'))\n",
    "                        \n",
    "    # sostituisce i valori NAN dei timestamp mancanti propagando l'ultimo valore disponibile\n",
    "    #df = df.fillna(method='ffill')\n",
    "    df = df.reset_index()\n",
    "    \n",
    "    df1 = pd.DataFrame(columns=['timestamp','power'])\n",
    "    df1['timestamp'] = df['index']\n",
    "    df1['power'] = df['power']    \n",
    "    \n",
    "    csv_dir = os.path.join(os.path.abspath('..'),'Dati al secondo')        \n",
    "    if not os.path.exists(csv_dir):\n",
    "       os.mkdir(csv_dir)\n",
    "    dir_EB = os.path.join(csv_dir,dir_path)\n",
    "    if not os.path.exists(dir_EB):\n",
    "       os.mkdir(dir_EB)\n",
    "    df1.to_csv(os.path.join(dir_EB,file_name + \".csv\"),index=False)\n",
    "    \n",
    "    '''\n",
    "    plot_dir = os.path.join(os.path.abspath('..'),'plotPerSecond_Day_1_JAN')        \n",
    "    if not os.path.exists(plot_dir):\n",
    "       os.mkdir(plot_dir)\n",
    "    dir_EB = os.path.join(plot_dir,dir_path)\n",
    "    if not os.path.exists(dir_EB):\n",
    "        os.mkdir(dir_EB)\n",
    "    ax = df1.iloc[1:86400].plot()\n",
    "    path_plot = os.path.join(dir_EB,file_name + \".png\")\n",
    "    ax.set_title(file_name)\n",
    "    fig = ax.get_figure()\n",
    "    fig.savefig(path_plot)\n",
    "    #plt.savefig(path_plot)\n",
    "    #plt.show()\n",
    "    '''\n",
    " "
   ]
  },
  {
   "cell_type": "code",
   "execution_count": 12,
   "outputs": [
    {
     "name": "stderr",
     "text": [
      "/usr/local/lib/python3.5/dist-packages/ipykernel_launcher.py:7: SettingWithCopyWarning: \nA value is trying to be set on a copy of a slice from a DataFrame.\nTry using .loc[row_indexer,col_indexer] = value instead\n\nSee the caveats in the documentation: http://pandas.pydata.org/pandas-docs/stable/indexing.html#indexing-view-versus-copy\n  import sys\n/usr/local/lib/python3.5/dist-packages/ipykernel_launcher.py:10: SettingWithCopyWarning: \nA value is trying to be set on a copy of a slice from a DataFrame.\nTry using .loc[row_indexer,col_indexer] = value instead\n\nSee the caveats in the documentation: http://pandas.pydata.org/pandas-docs/stable/indexing.html#indexing-view-versus-copy\n  # Remove the CWD from sys.path while we load stuff.\n"
     ],
     "output_type": "stream"
    },
    {
     "data": {
      "text/html": "<div>\n<style scoped>\n    .dataframe tbody tr th:only-of-type {\n        vertical-align: middle;\n    }\n\n    .dataframe tbody tr th {\n        vertical-align: top;\n    }\n\n    .dataframe thead th {\n        text-align: right;\n    }\n</style>\n<table border=\"1\" class=\"dataframe\">\n  <thead>\n    <tr style=\"text-align: right;\">\n      <th></th>\n      <th>power</th>\n    </tr>\n  </thead>\n  <tbody>\n    <tr>\n      <th>2019-01-01 00:00:00+01:00</th>\n      <td>1.4</td>\n    </tr>\n    <tr>\n      <th>2019-01-01 00:00:01+01:00</th>\n      <td>NaN</td>\n    </tr>\n    <tr>\n      <th>2019-01-01 00:00:02+01:00</th>\n      <td>NaN</td>\n    </tr>\n    <tr>\n      <th>2019-01-01 00:00:03+01:00</th>\n      <td>NaN</td>\n    </tr>\n    <tr>\n      <th>2019-01-01 00:00:04+01:00</th>\n      <td>NaN</td>\n    </tr>\n    <tr>\n      <th>2019-01-01 00:00:05+01:00</th>\n      <td>NaN</td>\n    </tr>\n    <tr>\n      <th>2019-01-01 00:00:06+01:00</th>\n      <td>NaN</td>\n    </tr>\n    <tr>\n      <th>2019-01-01 00:00:07+01:00</th>\n      <td>NaN</td>\n    </tr>\n    <tr>\n      <th>2019-01-01 00:00:08+01:00</th>\n      <td>NaN</td>\n    </tr>\n    <tr>\n      <th>2019-01-01 00:00:09+01:00</th>\n      <td>NaN</td>\n    </tr>\n    <tr>\n      <th>2019-01-01 00:00:10+01:00</th>\n      <td>NaN</td>\n    </tr>\n    <tr>\n      <th>2019-01-01 00:00:11+01:00</th>\n      <td>NaN</td>\n    </tr>\n    <tr>\n      <th>2019-01-01 00:00:12+01:00</th>\n      <td>NaN</td>\n    </tr>\n    <tr>\n      <th>2019-01-01 00:00:13+01:00</th>\n      <td>NaN</td>\n    </tr>\n    <tr>\n      <th>2019-01-01 00:00:14+01:00</th>\n      <td>NaN</td>\n    </tr>\n    <tr>\n      <th>2019-01-01 00:00:15+01:00</th>\n      <td>NaN</td>\n    </tr>\n    <tr>\n      <th>2019-01-01 00:00:16+01:00</th>\n      <td>NaN</td>\n    </tr>\n    <tr>\n      <th>2019-01-01 00:00:17+01:00</th>\n      <td>NaN</td>\n    </tr>\n    <tr>\n      <th>2019-01-01 00:00:18+01:00</th>\n      <td>NaN</td>\n    </tr>\n    <tr>\n      <th>2019-01-01 00:00:19+01:00</th>\n      <td>NaN</td>\n    </tr>\n    <tr>\n      <th>2019-01-01 00:00:20+01:00</th>\n      <td>NaN</td>\n    </tr>\n    <tr>\n      <th>2019-01-01 00:00:21+01:00</th>\n      <td>NaN</td>\n    </tr>\n    <tr>\n      <th>2019-01-01 00:00:22+01:00</th>\n      <td>NaN</td>\n    </tr>\n    <tr>\n      <th>2019-01-01 00:00:23+01:00</th>\n      <td>NaN</td>\n    </tr>\n    <tr>\n      <th>2019-01-01 00:00:24+01:00</th>\n      <td>NaN</td>\n    </tr>\n    <tr>\n      <th>2019-01-01 00:00:25+01:00</th>\n      <td>NaN</td>\n    </tr>\n    <tr>\n      <th>2019-01-01 00:00:26+01:00</th>\n      <td>NaN</td>\n    </tr>\n    <tr>\n      <th>2019-01-01 00:00:27+01:00</th>\n      <td>NaN</td>\n    </tr>\n    <tr>\n      <th>2019-01-01 00:00:28+01:00</th>\n      <td>NaN</td>\n    </tr>\n    <tr>\n      <th>2019-01-01 00:00:29+01:00</th>\n      <td>NaN</td>\n    </tr>\n    <tr>\n      <th>...</th>\n      <td>...</td>\n    </tr>\n    <tr>\n      <th>2019-01-01 00:10:23+01:00</th>\n      <td>NaN</td>\n    </tr>\n    <tr>\n      <th>2019-01-01 00:10:24+01:00</th>\n      <td>NaN</td>\n    </tr>\n    <tr>\n      <th>2019-01-01 00:10:25+01:00</th>\n      <td>NaN</td>\n    </tr>\n    <tr>\n      <th>2019-01-01 00:10:26+01:00</th>\n      <td>NaN</td>\n    </tr>\n    <tr>\n      <th>2019-01-01 00:10:27+01:00</th>\n      <td>NaN</td>\n    </tr>\n    <tr>\n      <th>2019-01-01 00:10:28+01:00</th>\n      <td>NaN</td>\n    </tr>\n    <tr>\n      <th>2019-01-01 00:10:29+01:00</th>\n      <td>NaN</td>\n    </tr>\n    <tr>\n      <th>2019-01-01 00:10:30+01:00</th>\n      <td>NaN</td>\n    </tr>\n    <tr>\n      <th>2019-01-01 00:10:31+01:00</th>\n      <td>NaN</td>\n    </tr>\n    <tr>\n      <th>2019-01-01 00:10:32+01:00</th>\n      <td>NaN</td>\n    </tr>\n    <tr>\n      <th>2019-01-01 00:10:33+01:00</th>\n      <td>NaN</td>\n    </tr>\n    <tr>\n      <th>2019-01-01 00:10:34+01:00</th>\n      <td>NaN</td>\n    </tr>\n    <tr>\n      <th>2019-01-01 00:10:35+01:00</th>\n      <td>NaN</td>\n    </tr>\n    <tr>\n      <th>2019-01-01 00:10:36+01:00</th>\n      <td>NaN</td>\n    </tr>\n    <tr>\n      <th>2019-01-01 00:10:37+01:00</th>\n      <td>NaN</td>\n    </tr>\n    <tr>\n      <th>2019-01-01 00:10:38+01:00</th>\n      <td>NaN</td>\n    </tr>\n    <tr>\n      <th>2019-01-01 00:10:39+01:00</th>\n      <td>NaN</td>\n    </tr>\n    <tr>\n      <th>2019-01-01 00:10:40+01:00</th>\n      <td>NaN</td>\n    </tr>\n    <tr>\n      <th>2019-01-01 00:10:41+01:00</th>\n      <td>NaN</td>\n    </tr>\n    <tr>\n      <th>2019-01-01 00:10:42+01:00</th>\n      <td>NaN</td>\n    </tr>\n    <tr>\n      <th>2019-01-01 00:10:43+01:00</th>\n      <td>NaN</td>\n    </tr>\n    <tr>\n      <th>2019-01-01 00:10:44+01:00</th>\n      <td>NaN</td>\n    </tr>\n    <tr>\n      <th>2019-01-01 00:10:45+01:00</th>\n      <td>NaN</td>\n    </tr>\n    <tr>\n      <th>2019-01-01 00:10:46+01:00</th>\n      <td>NaN</td>\n    </tr>\n    <tr>\n      <th>2019-01-01 00:10:47+01:00</th>\n      <td>NaN</td>\n    </tr>\n    <tr>\n      <th>2019-01-01 00:10:48+01:00</th>\n      <td>NaN</td>\n    </tr>\n    <tr>\n      <th>2019-01-01 00:10:49+01:00</th>\n      <td>NaN</td>\n    </tr>\n    <tr>\n      <th>2019-01-01 00:10:50+01:00</th>\n      <td>NaN</td>\n    </tr>\n    <tr>\n      <th>2019-01-01 00:10:51+01:00</th>\n      <td>NaN</td>\n    </tr>\n    <tr>\n      <th>2019-01-01 00:10:52+01:00</th>\n      <td>30.5</td>\n    </tr>\n  </tbody>\n</table>\n<p>653 rows × 1 columns</p>\n</div>",
      "text/plain": "                           power\n2019-01-01 00:00:00+01:00    1.4\n2019-01-01 00:00:01+01:00    NaN\n2019-01-01 00:00:02+01:00    NaN\n2019-01-01 00:00:03+01:00    NaN\n2019-01-01 00:00:04+01:00    NaN\n2019-01-01 00:00:05+01:00    NaN\n2019-01-01 00:00:06+01:00    NaN\n2019-01-01 00:00:07+01:00    NaN\n2019-01-01 00:00:08+01:00    NaN\n2019-01-01 00:00:09+01:00    NaN\n2019-01-01 00:00:10+01:00    NaN\n2019-01-01 00:00:11+01:00    NaN\n2019-01-01 00:00:12+01:00    NaN\n2019-01-01 00:00:13+01:00    NaN\n2019-01-01 00:00:14+01:00    NaN\n2019-01-01 00:00:15+01:00    NaN\n2019-01-01 00:00:16+01:00    NaN\n2019-01-01 00:00:17+01:00    NaN\n2019-01-01 00:00:18+01:00    NaN\n2019-01-01 00:00:19+01:00    NaN\n2019-01-01 00:00:20+01:00    NaN\n2019-01-01 00:00:21+01:00    NaN\n2019-01-01 00:00:22+01:00    NaN\n2019-01-01 00:00:23+01:00    NaN\n2019-01-01 00:00:24+01:00    NaN\n2019-01-01 00:00:25+01:00    NaN\n2019-01-01 00:00:26+01:00    NaN\n2019-01-01 00:00:27+01:00    NaN\n2019-01-01 00:00:28+01:00    NaN\n2019-01-01 00:00:29+01:00    NaN\n...                          ...\n2019-01-01 00:10:23+01:00    NaN\n2019-01-01 00:10:24+01:00    NaN\n2019-01-01 00:10:25+01:00    NaN\n2019-01-01 00:10:26+01:00    NaN\n2019-01-01 00:10:27+01:00    NaN\n2019-01-01 00:10:28+01:00    NaN\n2019-01-01 00:10:29+01:00    NaN\n2019-01-01 00:10:30+01:00    NaN\n2019-01-01 00:10:31+01:00    NaN\n2019-01-01 00:10:32+01:00    NaN\n2019-01-01 00:10:33+01:00    NaN\n2019-01-01 00:10:34+01:00    NaN\n2019-01-01 00:10:35+01:00    NaN\n2019-01-01 00:10:36+01:00    NaN\n2019-01-01 00:10:37+01:00    NaN\n2019-01-01 00:10:38+01:00    NaN\n2019-01-01 00:10:39+01:00    NaN\n2019-01-01 00:10:40+01:00    NaN\n2019-01-01 00:10:41+01:00    NaN\n2019-01-01 00:10:42+01:00    NaN\n2019-01-01 00:10:43+01:00    NaN\n2019-01-01 00:10:44+01:00    NaN\n2019-01-01 00:10:45+01:00    NaN\n2019-01-01 00:10:46+01:00    NaN\n2019-01-01 00:10:47+01:00    NaN\n2019-01-01 00:10:48+01:00    NaN\n2019-01-01 00:10:49+01:00    NaN\n2019-01-01 00:10:50+01:00    NaN\n2019-01-01 00:10:51+01:00    NaN\n2019-01-01 00:10:52+01:00   30.5\n\n[653 rows x 1 columns]"
     },
     "metadata": {},
     "output_type": "display_data"
    }
   ],
   "source": [
    "PATH = '../Dati puntuali Smart Homes Gennaio-Giugno 2019'\n",
    "#PATH = '../Dati puntuali Smart HOME'\n",
    "#PATH ='../datasetProva'\n",
    "\n",
    "\n",
    "for r,dir,f in os.walk(PATH):\n",
    "    for d in dir:\n",
    "        DIR_PATH = d\n",
    "        p = os.path.join(r,DIR_PATH)\n",
    "        for r1,d1,f1 in os.walk(p):\n",
    "            for file in f1 :\n",
    "                chunksize = 500000\n",
    "                file_path = os.path.join(PATH,DIR_PATH,file)\n",
    "                df = pd.read_csv(file_path, sep=';', chunksize=chunksize, iterator=True)\n",
    "                df = pd.concat(df, ignore_index=True)\n",
    "                file_name = file.split('.')[0]\n",
    "                process(df,file_name,DIR_PATH)"
   ],
   "metadata": {
    "collapsed": false,
    "pycharm": {
     "name": "#%%\n",
     "is_executing": false
    }
   }
  }
 ],
 "metadata": {
  "language_info": {
   "codemirror_mode": {
    "name": "ipython",
    "version": 2
   },
   "file_extension": ".py",
   "mimetype": "text/x-python",
   "name": "python",
   "nbconvert_exporter": "python",
   "pygments_lexer": "ipython2",
   "version": "2.7.6"
  },
  "kernelspec": {
   "name": "pycharm-e43341fc",
   "language": "python",
   "display_name": "PyCharm (TESI)"
  },
  "pycharm": {
   "stem_cell": {
    "cell_type": "raw",
    "source": [],
    "metadata": {
     "collapsed": false
    }
   }
  }
 },
 "nbformat": 4,
 "nbformat_minor": 0
}