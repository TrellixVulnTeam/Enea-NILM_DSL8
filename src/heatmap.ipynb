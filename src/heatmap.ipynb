{
 "cells": [
  {
   "cell_type": "code",
   "execution_count": 5,
   "metadata": {
    "pycharm": {
     "is_executing": false
    }
   },
   "outputs": [],
   "source": [
    "import pandas as pd\n",
    "import numpy as np\n",
    "import seaborn as sns\n",
    "import os\n",
    "import matplotlib.colors as colors\n",
    "import matplotlib.pyplot as plt\n",
    "\n",
    "def getHeatMap(newdataf,month,filepath,count,boolval):\n",
    "    #Filtraggio per mese\n",
    "    newdf=newdataf[newdataf['hours'].str.contains(month)]\n",
    "    #Conta numero di osservazioni in ogni ora\n",
    "    newdf=newdf.groupby(['hours'],sort=False,as_index=False)[['count']].count()\n",
    "    #Estrai giorno e ora\n",
    "    newdf['day']=newdf['hours'].str[:2]\n",
    "    newdf['h']=newdf['hours'].str[-3:-1]\n",
    "    #Crea nuovo daframe per heatmap\n",
    "    f=pd.DataFrame(columns=['h','count'])\n",
    "    f['day']=newdf['day']\n",
    "    f['h']=newdf['h'].astype(int)\n",
    "    f['count']=newdf['count'].astype(int)\n",
    "    #Crea una pivot table\n",
    "    piv = pd.pivot_table(f, values=\"count\",index=[\"h\"], columns=[\"day\"], fill_value=0)\n",
    "    # This dictionary defines the colormap\n",
    "    cdict = {'red':  ((0.0, 0.8, 0.8),   # no red at 0\n",
    "                  (0.5, 1.0, 1.0),   # all channels set to 1.0 at 0.5 to create white\n",
    "                  (1.0, 0.0, 0.0)),  # set to 0.8 so its not too bright at 1\n",
    "\n",
    "        'green': ((0.0, 0.0, 0.0),   # set to 0.8 so its not too bright at 0\n",
    "                  (0.5, 1.0, 1.0),   # all channels set to 1.0 at 0.5 to create white\n",
    "                  (1.0, 0.8, 0.8)),  # no green at 1\n",
    "\n",
    "        'blue':  ((0.0, 0.0, 0.0),   # no blue at 0\n",
    "                  (0.5, 1.0, 1.0),   # all channels set to 1.0 at 0.5 to create white\n",
    "                  (1.0, 0.0, 0.0))   # no blue at 1\n",
    "       }\n",
    "    #Creazione heatmap con grana 1 secondo\n",
    "    GnRd = colors.LinearSegmentedColormap('GnRd', cdict)\n",
    "    ax = sns.heatmap(piv, mask=piv==0,square=True,linewidths=0.8,cmap=GnRd,vmin=0,vmax=3600)    \n",
    "    figure = ax.get_figure() \n",
    "    heatDir=os.path.join(os.path.abspath('..'),os.path.join(\"heatmap\\\\\",\"EB\"+str(count)+\"_\"+str(3600)+\"\\\\\"+filepath[:-4]))\n",
    "    if not os.path.exists(heatDir):\n",
    "        os.makedirs(heatDir)\n",
    "    heatmapPath=os.path.join(heatDir,month+'.png')\n",
    "    figure.savefig(heatmapPath, dpi=400)\n",
    "    plt.clf()\n",
    "    #Crea heatmap con grana 5 secondi per meter\n",
    "    GnRd = colors.LinearSegmentedColormap('GnRd', cdict)\n",
    "    if boolval==False:\n",
    "        ax2 = sns.heatmap(piv,mask=piv==0, square=True,linewidths=0.8,cmap=GnRd,vmin=0,vmax=720)\n",
    "        figure2 = ax2.get_figure() \n",
    "        heatDir=os.path.join(os.path.abspath('..'),os.path.join(\"heatmap\\\\\",\"EB\"+str(count)+\"_\"+str(720)+\"\\\\\"+filepath[:-4]))\n",
    "        if not os.path.exists(heatDir):\n",
    "            os.makedirs(heatDir)\n",
    "        heatmapPath=os.path.join(heatDir,month+'.png')\n",
    "        figure2.savefig(heatmapPath, dpi=400)\n",
    "    plt.clf()\n",
    "    \n",
    "    \n",
    "    \n",
    "#Funzione che ritorna dataframe in base al mese   \n",
    "def switch_demo(argument):\n",
    "    global jandf\n",
    "    global febdf\n",
    "    global mardf\n",
    "    global aprdf\n",
    "    global maydf\n",
    "    global jundf\n",
    "    if(argument=='Jan'):\n",
    "        return jandf\n",
    "    if(argument=='Feb'):\n",
    "        return febdf\n",
    "    if(argument=='Mar'):\n",
    "        return mardf\n",
    "    if(argument=='Apr'):\n",
    "        return aprdf\n",
    "    if(argument=='May'):\n",
    "        return maydf\n",
    "    if(argument=='Jun'):\n",
    "        return jundf\n",
    "#Funzione che assegna le modifiche al dataframe in base al mese\n",
    "def switch_df(argument,df):\n",
    "    global jandf\n",
    "    global febdf\n",
    "    global mardf\n",
    "    global aprdf\n",
    "    global maydf\n",
    "    global jundf\n",
    "    if(argument=='Jan'):\n",
    "        jandf=df\n",
    "    if(argument=='Feb'):\n",
    "        febdf=df\n",
    "    if(argument=='Mar'):\n",
    "        mardf=df\n",
    "    if(argument=='Apr'):\n",
    "        aprdf=df\n",
    "    if(argument=='May'):\n",
    "        maydf=df\n",
    "    if(argument=='Jun'):\n",
    "        jundf=df\n",
    "\n",
    "def process(chunck,filepath,count):\n",
    "    global jandf\n",
    "    global febdf\n",
    "    global mardf\n",
    "    global aprdf\n",
    "    global maydf\n",
    "    global jundf\n",
    "    df=chunck.loc[:, ('timestamp', 'power')]\n",
    "    # generiamo la data nel formato corretto a partire dal timestamp unix\n",
    "    df['date'] = pd.to_datetime(df['timestamp'], unit='ms').dt.tz_localize(\"GMT\").dt.tz_convert('Europe/Rome')\n",
    "    # arrotondiamo da ms al secondo pi� vicino\n",
    "    df['date'] = df['date'].dt.round('1s')\n",
    "    df = df[['date', 'power']]\n",
    "    # crea una time series settando la data come index\n",
    "    df = df.set_index('date')\n",
    "    #Raggruppa per data ed effettua la media dei power\n",
    "    df=df.groupby('date')[['power']].mean()\n",
    "    #Aggiungi una colonna contenente  data e ora per heatmap\n",
    "    df['hours']=df.index.to_series(keep_tz=True).dt.strftime(\"%d-%b-%Y (%H)\")\n",
    "    df['day']=df.index.to_series(keep_tz=True).dt.strftime(\"%d\").str.lstrip(\"0\").replace(\" 0\", \" \")\n",
    "    df['count']=0\n",
    "    monthList=['Jan','Feb','Mar','Apr','May','Jun']\n",
    "    #Esegui i vari filtraggi e crea un dataframe contenente i valori per ogni mese\n",
    "    for month in monthList:\n",
    "        newdf=df[df['hours'].str.contains(month)]\n",
    "        filterdf=switch_demo(month)\n",
    "        frames = [filterdf,newdf]\n",
    "        filterdf=pd.concat(frames)\n",
    "        switch_df(month,filterdf)\n",
    " "
   ]
  },
  {
   "cell_type": "code",
   "execution_count": 6,
   "metadata": {
    "pycharm": {
     "is_executing": false
    }
   },
   "outputs": [
    {
     "name": "stdout",
     "output_type": "stream",
     "text": [
      "Start 1\n"
     ]
    },
    {
     "name": "stderr",
     "output_type": "stream",
     "text": [
      "c:\\users\\giuse\\pycharmprojects\\untitled\\venv\\lib\\site-packages\\seaborn\\matrix.py:287: UserWarning: Attempting to set identical bottom == top == 0 results in singular transformations; automatically expanding.\n",
      "  ax.set(xlim=(0, self.data.shape[1]), ylim=(0, self.data.shape[0]))\n",
      "c:\\users\\giuse\\pycharmprojects\\untitled\\venv\\lib\\site-packages\\seaborn\\matrix.py:287: UserWarning: Attempting to set identical left == right == 0 results in singular transformations; automatically expanding.\n",
      "  ax.set(xlim=(0, self.data.shape[1]), ylim=(0, self.data.shape[0]))\n"
     ]
    },
    {
     "name": "stdout",
     "output_type": "stream",
     "text": [
      "Start 2\n",
      "Start 3\n",
      "Start 4\n",
      "Start 5\n",
      "Start 6\n",
      "Start 7\n",
      "Start 8\n",
      "Start 9\n",
      "Start 10\n"
     ]
    },
    {
     "data": {
      "text/plain": [
       "<Figure size 432x288 with 0 Axes>"
      ]
     },
     "metadata": {},
     "output_type": "display_data"
    }
   ],
   "source": [
    "DIRPATH=[\"\\Dati puntuali EB1 Gennaio-Giugno 2019\",\"\\Dati puntuali EB2 Gennaio-Giugno 2019\",\"\\Dati puntuali EB3 Gennaio-Giugno 2019\",\"\\Dati puntuali EB4 Gennaio-Giugno 2019\",\"\\Dati puntuali EB5 Gennaio-Giugno 2019\",\"\\Dati puntuali EB6 Gennaio-Giugno 2019\",\"\\Dati puntuali EB7 Gennaio-Giugno 2019\",\"\\Dati puntuali EB8 Gennaio-Giugno 2019\",\"\\Dati puntuali EB9 Gennaio-Giugno 2019\",\"\\Dati puntuali EB10 Gennaio-Giugno 2019\"]\n",
    "#DIRPATH=[\"\\Dati puntuali EB1 Gennaio-Giugno 2019\"]\n",
    "count=0\n",
    "for dirpath in DIRPATH:\n",
    "    count=count+1\n",
    "    print(\"Start \"+str(count))\n",
    "    dirp=os.path.join(os.path.abspath('..'),\"data\"+dirpath+\"\\\\\")\n",
    "    filelist=[f for f in os.listdir(dirp)]\n",
    "    for filepath in filelist:\n",
    "        dataPath=os.path.join(dirp,filepath)\n",
    "        #Creazione dataframe vuoti per ogni mese\n",
    "        jandf=febdf=mardf=aprdf=maydf=jundf=pd.DataFrame(columns=['date','power','hours','day','count'])\n",
    "        jandf = jandf.set_index('date')\n",
    "        febdf = febdf.set_index('date')\n",
    "        mardf = mardf.set_index('date')\n",
    "        aprdf = aprdf.set_index('date')\n",
    "        maydf = maydf.set_index('date')\n",
    "        jundf = jundf.set_index('date')\n",
    "        pd.set_option('display.max_rows', 10000)\n",
    "        for chunck in pd.read_csv(dataPath, sep=';',chunksize=500000):\n",
    "            process(chunck,filepath,count)\n",
    "        if(\"Meter\" in filepath):\n",
    "            boolval=False\n",
    "        else:\n",
    "            boolval=True\n",
    "        \n",
    "        #Creazione heatmap\n",
    "        getHeatMap(jandf,'Jan',filepath,count,boolval) \n",
    "        getHeatMap(febdf,'Feb',filepath,count,boolval)\n",
    "        getHeatMap(mardf,'Mar',filepath,count,boolval)\n",
    "        getHeatMap(aprdf,'Apr',filepath,count,boolval)\n",
    "        getHeatMap(maydf,'May',filepath,count,boolval)\n",
    "        getHeatMap(jundf,'Jun',filepath,count,boolval)"
   ]
  },
  {
   "cell_type": "code",
   "execution_count": null,
   "metadata": {
    "pycharm": {
     "is_executing": false
    }
   },
   "outputs": [],
   "source": []
  },
  {
   "cell_type": "code",
   "execution_count": null,
   "metadata": {
    "pycharm": {
     "is_executing": false
    }
   },
   "outputs": [],
   "source": []
  },
  {
   "cell_type": "code",
   "execution_count": null,
   "metadata": {
    "pycharm": {
     "is_executing": false
    }
   },
   "outputs": [],
   "source": []
  },
  {
   "cell_type": "code",
   "execution_count": null,
   "metadata": {
    "pycharm": {
     "is_executing": false
    }
   },
   "outputs": [],
   "source": []
  },
  {
   "cell_type": "code",
   "execution_count": null,
   "metadata": {
    "pycharm": {
     "is_executing": false
    }
   },
   "outputs": [],
   "source": []
  },
  {
   "cell_type": "code",
   "execution_count": null,
   "metadata": {
    "pycharm": {
     "is_executing": false
    }
   },
   "outputs": [],
   "source": []
  }
 ],
 "metadata": {
  "kernelspec": {
   "display_name": "Python 3",
   "language": "python",
   "name": "python3"
  },
  "language_info": {
   "codemirror_mode": {
    "name": "ipython",
    "version": 3
   },
   "file_extension": ".py",
   "mimetype": "text/x-python",
   "name": "python",
   "nbconvert_exporter": "python",
   "pygments_lexer": "ipython3",
   "version": "3.7.4"
  },
  "pycharm": {
   "stem_cell": {
    "cell_type": "raw",
    "metadata": {
     "collapsed": false
    },
    "source": []
   }
  }
 },
 "nbformat": 4,
 "nbformat_minor": 1
}
