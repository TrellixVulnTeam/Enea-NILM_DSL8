{
 "cells": [
  {
   "cell_type": "code",
   "execution_count": 10,
   "metadata": {
    "pycharm": {
     "is_executing": false
    }
   },
   "outputs": [],
   "source": [
    "import pandas as pd\n",
    "import numpy as np\n",
    "import seaborn as sns\n",
    "import os\n",
    "import matplotlib.colors as colors\n",
    "import matplotlib.pyplot as plt\n",
    "\n",
    "def getHeatMap(newdataf,month,filepath):\n",
    "    #Filtraggio per mese\n",
    "    newdf=newdataf[newdataf['hours'].str.contains(month)]\n",
    "    #Conta numero di osservazioni in ogni ora\n",
    "    newdf=newdf.groupby(['hours'],sort=False,as_index=False)[['count']].count()\n",
    "    #Estrai giorno e ora\n",
    "    newdf['day']=newdf['hours'].str[:2]\n",
    "    newdf['h']=newdf['hours'].str[-3:-1]\n",
    "    #Crea nuovo daframe per heatmap\n",
    "    f=pd.DataFrame(columns=['h','count'])\n",
    "    f['day']=newdf['day']\n",
    "    f['h']=newdf['h'].astype(int)\n",
    "    f['count']=newdf['count'].astype(int)\n",
    "    #Crea una pivot table\n",
    "    piv = pd.pivot_table(f, values=\"count\",index=[\"h\"], columns=[\"day\"], fill_value=0)\n",
    "    # This dictionary defines the colormap\n",
    "    cdict = {'red':  ((0.0, 0.8, 0.8),   # no red at 0\n",
    "                  (0.5, 1.0, 1.0),   # all channels set to 1.0 at 0.5 to create white\n",
    "                  (1.0, 0.0, 0.0)),  # set to 0.8 so its not too bright at 1\n",
    "\n",
    "        'green': ((0.0, 0.0, 0.0),   # set to 0.8 so its not too bright at 0\n",
    "                  (0.5, 1.0, 1.0),   # all channels set to 1.0 at 0.5 to create white\n",
    "                  (1.0, 0.8, 0.8)),  # no green at 1\n",
    "\n",
    "        'blue':  ((0.0, 0.0, 0.0),   # no blue at 0\n",
    "                  (0.5, 1.0, 1.0),   # all channels set to 1.0 at 0.5 to create white\n",
    "                  (1.0, 0.0, 0.0))   # no blue at 1\n",
    "       }\n",
    "    GnRd = colors.LinearSegmentedColormap('GnRd', cdict)\n",
    "    ax = sns.heatmap(piv, square=True,linewidths=0.8,cmap=GnRd)\n",
    "    figure = ax.get_figure() \n",
    "    heatDir=os.path.join(os.path.abspath('..'),\"heatmap\"+filepath[:-4])\n",
    "    if not os.path.exists(heatDir):\n",
    "        os.mkdir(heatDir)\n",
    "    heatmapPath=os.path.join(heatDir,month+'.png')\n",
    "    figure.savefig(heatmapPath, dpi=400)\n",
    "    plt.clf()\n",
    "\n",
    "def process(chunck,filepath):\n",
    "    df=chunck.loc[:, ('timestamp', 'power')]\n",
    "    # generiamo la data nel formato corretto a partire dal timestamp unix\n",
    "    df['date'] = pd.to_datetime(df['timestamp'], unit='ms').dt.tz_localize(\"GMT\").dt.tz_convert('Europe/Rome')\n",
    "    # arrotondiamo da ms al secondo pi� vicino\n",
    "    df['date'] = df['date'].dt.round('1s')\n",
    "    df = df[['date', 'power']]\n",
    "    # crea una time series settando la data come index\n",
    "    df = df.set_index('date')\n",
    "    #Raggruppa per data ed effettua la media dei power\n",
    "    df=df.groupby('date')[['power']].mean()\n",
    "    #Aggiungi una colonna contenente  data e ora per heatmap\n",
    "    df['hours']=df.index.to_series(keep_tz=True).dt.strftime(\"%d-%b-%Y (%H)\")\n",
    "    df['day']=df.index.to_series(keep_tz=True).dt.strftime(\"%d\").str.lstrip(\"0\").replace(\" 0\", \" \")\n",
    "    df['count']=0\n",
    "    monthList=['Jan','Feb','Mar','Apr','May','Jun']\n",
    "    for month in monthList:\n",
    "        newdf=df[df['hours'].str.contains(month)]\n",
    "        getHeatMap(newdf,month,filepath) "
   ]
  },
  {
   "cell_type": "code",
   "execution_count": 11,
   "metadata": {
    "pycharm": {
     "is_executing": false
    }
   },
   "outputs": [
    {
     "data": {
      "text/plain": [
       "<Figure size 432x288 with 0 Axes>"
      ]
     },
     "metadata": {},
     "output_type": "display_data"
    }
   ],
   "source": [
    "DIRPATH=\"\\Dati puntuali EB1 Gennaio-Giugno 2019\"\n",
    "FILEPATHLIST={\"\\Dati puntuali Frigo EB1 2019.csv\",\"\\Dati puntuali Lavastoviglie EB1 2019.csv\",\"\\Dati puntuali Lavatrice EB1 2019.csv\",\"\\Dati puntuali TV EB1 2019.csv\"}\n",
    "\n",
    "for filepath in FILEPATHLIST:\n",
    "    dataPath=os.path.join(os.path.abspath('..'),\"data\"+DIRPATH+filepath)\n",
    "    #for chunck in pd.read_csv(dataPath, sep=';',chunksize=10000):\n",
    "    process( pd.read_csv(dataPath, sep=';'),filepath)"
   ]
  },
  {
   "cell_type": "code",
   "execution_count": 5,
   "metadata": {},
   "outputs": [
    {
     "data": {
      "text/html": [
       "<div>\n",
       "<style scoped>\n",
       "    .dataframe tbody tr th:only-of-type {\n",
       "        vertical-align: middle;\n",
       "    }\n",
       "\n",
       "    .dataframe tbody tr th {\n",
       "        vertical-align: top;\n",
       "    }\n",
       "\n",
       "    .dataframe thead th {\n",
       "        text-align: right;\n",
       "    }\n",
       "</style>\n",
       "<table border=\"1\" class=\"dataframe\">\n",
       "  <thead>\n",
       "    <tr style=\"text-align: right;\">\n",
       "      <th></th>\n",
       "      <th>A</th>\n",
       "      <th>B</th>\n",
       "      <th>C</th>\n",
       "      <th>D</th>\n",
       "    </tr>\n",
       "  </thead>\n",
       "  <tbody>\n",
       "    <tr>\n",
       "      <th>0</th>\n",
       "      <td>A0</td>\n",
       "      <td>B0</td>\n",
       "      <td>C0</td>\n",
       "      <td>D0</td>\n",
       "    </tr>\n",
       "    <tr>\n",
       "      <th>1</th>\n",
       "      <td>A1</td>\n",
       "      <td>B1</td>\n",
       "      <td>C1</td>\n",
       "      <td>D1</td>\n",
       "    </tr>\n",
       "    <tr>\n",
       "      <th>2</th>\n",
       "      <td>A2</td>\n",
       "      <td>B2</td>\n",
       "      <td>C2</td>\n",
       "      <td>D2</td>\n",
       "    </tr>\n",
       "    <tr>\n",
       "      <th>3</th>\n",
       "      <td>A3</td>\n",
       "      <td>B3</td>\n",
       "      <td>C3</td>\n",
       "      <td>D3</td>\n",
       "    </tr>\n",
       "  </tbody>\n",
       "</table>\n",
       "</div>"
      ],
      "text/plain": [
       "    A   B   C   D\n",
       "0  A0  B0  C0  D0\n",
       "1  A1  B1  C1  D1\n",
       "2  A2  B2  C2  D2\n",
       "3  A3  B3  C3  D3"
      ]
     },
     "execution_count": 5,
     "metadata": {},
     "output_type": "execute_result"
    }
   ],
   "source": [
    "'''\n",
    "df1 = pd.DataFrame({'A': ['A0', 'A1', 'A2', 'A3'],\n",
    "                       'B': ['B0', 'B1', 'B2', 'B3'],\n",
    "                       'C': ['C0', 'C1', 'C2', 'C3'],\n",
    "                   'D': ['D0', 'D1', 'D2', 'D3']})\n",
    "df2 = pd.DataFrame({'A': ['A4', 'A5', 'A6', 'A7'],\n",
    "                       'B': ['B4', 'B5', 'B6', 'B7'],\n",
    "                     'C': ['C4', 'C5', 'C6', 'C7'],\n",
    "                       'D': ['D4', 'D5', 'D6', 'D7']})\n",
    "f=pd.DataFrame(columns=['A','B','C','D'])\n",
    "f\n",
    "frames = [df1,f]\n",
    "pd.concat(frames)\n",
    "'''"
   ]
  },
  {
   "cell_type": "code",
   "execution_count": null,
   "metadata": {},
   "outputs": [],
   "source": []
  },
  {
   "cell_type": "code",
   "execution_count": null,
   "metadata": {},
   "outputs": [],
   "source": []
  },
  {
   "cell_type": "code",
   "execution_count": null,
   "metadata": {},
   "outputs": [],
   "source": []
  }
 ],
 "metadata": {
  "kernelspec": {
   "display_name": "Python 3",
   "language": "python",
   "name": "python3"
  },
  "language_info": {
   "codemirror_mode": {
    "name": "ipython",
    "version": 3
   },
   "file_extension": ".py",
   "mimetype": "text/x-python",
   "name": "python",
   "nbconvert_exporter": "python",
   "pygments_lexer": "ipython3",
   "version": "3.7.3"
  },
  "pycharm": {
   "stem_cell": {
    "cell_type": "raw",
    "metadata": {
     "collapsed": false
    },
    "source": []
   }
  }
 },
 "nbformat": 4,
 "nbformat_minor": 1
}
