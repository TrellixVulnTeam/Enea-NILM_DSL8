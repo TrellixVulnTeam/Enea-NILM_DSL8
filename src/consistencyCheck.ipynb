{
 "cells": [
  {
   "cell_type": "code",
   "execution_count": 1,
   "metadata": {
    "pycharm": {
     "is_executing": false
    }
   },
   "outputs": [
    {
     "ename": "ModuleNotFoundError",
     "evalue": "No module named 'seaborn'",
     "output_type": "error",
     "traceback": [
      "\u001b[1;31m---------------------------------------------------------------------------\u001b[0m",
      "\u001b[1;31mModuleNotFoundError\u001b[0m                       Traceback (most recent call last)",
      "\u001b[1;32m<ipython-input-1-932b039a9770>\u001b[0m in \u001b[0;36m<module>\u001b[1;34m\u001b[0m\n\u001b[0;32m      1\u001b[0m \u001b[1;32mimport\u001b[0m \u001b[0mpandas\u001b[0m \u001b[1;32mas\u001b[0m \u001b[0mpd\u001b[0m\u001b[1;33m\u001b[0m\u001b[1;33m\u001b[0m\u001b[0m\n\u001b[0;32m      2\u001b[0m \u001b[1;32mimport\u001b[0m \u001b[0mnumpy\u001b[0m \u001b[1;32mas\u001b[0m \u001b[0mnp\u001b[0m\u001b[1;33m\u001b[0m\u001b[1;33m\u001b[0m\u001b[0m\n\u001b[1;32m----> 3\u001b[1;33m \u001b[1;32mimport\u001b[0m \u001b[0mseaborn\u001b[0m \u001b[1;32mas\u001b[0m \u001b[0msns\u001b[0m\u001b[1;33m\u001b[0m\u001b[1;33m\u001b[0m\u001b[0m\n\u001b[0m\u001b[0;32m      4\u001b[0m \u001b[1;32mimport\u001b[0m \u001b[0mos\u001b[0m\u001b[1;33m\u001b[0m\u001b[1;33m\u001b[0m\u001b[0m\n\u001b[0;32m      5\u001b[0m \u001b[1;32mimport\u001b[0m \u001b[0mmatplotlib\u001b[0m\u001b[1;33m.\u001b[0m\u001b[0mcolors\u001b[0m \u001b[1;32mas\u001b[0m \u001b[0mcolors\u001b[0m\u001b[1;33m\u001b[0m\u001b[1;33m\u001b[0m\u001b[0m\n",
      "\u001b[1;31mModuleNotFoundError\u001b[0m: No module named 'seaborn'"
     ]
    }
   ],
   "source": [
    "import pandas as pd\n",
    "import numpy as np\n",
    "import seaborn as sns\n",
    "import os\n",
    "import matplotlib.colors as colors\n",
    "import matplotlib.pyplot as plt\n",
    "import gc\n",
    "\n",
    "def getHeatMap(newdataf,metdataf,month,dirpath,count,startDate):\n",
    "    #Filtraggio per mese\n",
    "    newdf=newdataf[newdataf['hours'].str.contains(month)]\n",
    "    metdf=metdataf[metdataf['hours'].str.contains(month)]\n",
    "    #display(newdf)\n",
    "    #display(metdf)\n",
    "    #Creazione dataframe finale\n",
    "    finaldf=pd.DataFrame(columns=['hours','bool','power_dev','power_met'])\n",
    "    \n",
    "    finaldf['hours']=newdf['hours']\n",
    "    finaldf['bool'] = np.where(newdf.power <= metdataf.power,1,0).astype(int)\n",
    "    finaldf['power_met']=metdf['power']\n",
    "    finaldf['power_dev']=newdf['power']\n",
    "    finaldf.to_csv('finalcsv',index=False)\n",
    "    writedf=finaldf[finaldf['bool']==0]\n",
    "    heatDir=os.path.join(os.path.abspath('..'),os.path.join(\"check\\\\\",\"EB\"+dirpath[17]))\n",
    "    if not os.path.exists(heatDir):\n",
    "        os.makedirs(heatDir)\n",
    "    heatmapPath=os.path.join(heatDir,month+'.csv')\n",
    "    print(heatmapPath)\n",
    "    writedf.to_csv(heatmapPath,index=False)\n",
    "    \n",
    "    print('HO FINITO')\n",
    "   \n",
    " \n",
    "\n",
    "\n",
    "    \n",
    "\n",
    "    \n",
    "#Funzione che ritorna dataframe in base al mese   \n",
    "def switch_demo(boolval):\n",
    "    global jandf\n",
    "    global metjandf\n",
    "    if(boolval==False):\n",
    "        return jandf\n",
    "    else:\n",
    "        return metjandf\n",
    "#Funzione che assegna le modifiche al dataframe in base al mese\n",
    "def switch_df(df,boolval):\n",
    "    global jandf\n",
    "    global metjandf\n",
    "    if(boolval==False):\n",
    "        jandf=df\n",
    "    else:\n",
    "        metjandf=df\n",
    "def process(df,filepath,count,boolval):\n",
    "    global jandf\n",
    "    global metjandf\n",
    "    \n",
    "    df['timestamp'] = pd.to_datetime(df['timestamp'],utc=True).dt.tz_convert('Europe/Rome')\n",
    "    #df['Date'] = df.timestamp.dt.tz_convert('Europe/Rome')\n",
    "    #print(df)\n",
    "    #df['timestamp'].apply(lambda x: pd.to_datetime(x).tz_convert('Europe/Rome'))\n",
    "    \n",
    "    #df['timestamp']=pd.Timestamp(df['timestamp'],tz='Europe/Rome')\n",
    "    # crea una time series settando la data come index\n",
    "    #df = df.set_index('timestamp')\n",
    "    #Aggiungi una colonna contenente  data e ora per heatmap\n",
    "    df['hours']=df['timestamp'].dt.strftime(\"%d-%b-%Y (%H-%M-%S)\")\n",
    "    #df['hours']=df.index.to_series(keep_tz=True).dt.strftime(\"%d-%b-%Y (%H-%M-%S)\")\n",
    "    df['day']=df['timestamp'].dt.strftime(\"%d\").str.lstrip(\"0\").replace(\" 0\", \" \")\n",
    "    df=df.set_index('timestamp')\n",
    "    \n",
    "    monthList=['Jan']\n",
    "    #Esegui i vari filtraggi e crea un dataframe contenente i valori per ogni mese\n",
    "    for month in monthList:\n",
    "        newdf=df[df['hours'].str.contains(month)]\n",
    "        #display(newdf)\n",
    "        filterdf=switch_demo(boolval)\n",
    "        #display(filterdf)\n",
    "        filterdf.loc[filterdf.hours.isin(newdf.hours) , 'power'] = filterdf['power']+newdf['power']\n",
    "        #print('dopo')\n",
    "        #display(filterdf)\n",
    "        \n",
    "        switch_df(filterdf,boolval)\n",
    "    del df,newdf,filterdf\n",
    "    gc.collect()\n",
    "        \n",
    "        \n",
    "        \n",
    "    \n",
    " \n"
   ]
  },
  {
   "cell_type": "code",
   "execution_count": null,
   "metadata": {
    "pycharm": {
     "is_executing": false
    }
   },
   "outputs": [],
   "source": [
    "#DIRPATH=[\"\\Dati puntuali EB1 Gennaio-Giugno 2019\",\"\\Dati puntuali EB3 Gennaio-Giugno 2019\",\"\\Dati puntuali EB4 Gennaio-Giugno 2019\",\"\\Dati puntuali EB5 Gennaio-Giugno 2019\",\"\\Dati puntuali EB6 Gennaio-Giugno 2019\",\"\\Dati puntuali EB7 Gennaio-Giugno 2019\",\"\\Dati puntuali EB8 Gennaio-Giugno 2019\",\"\\Dati puntuali EB9 Gennaio-Giugno 2019\"]\n",
    "DIRPATH=[\"\\Dati puntuali EB4 Gennaio-Giugno 2019\"]\n",
    "count=0\n",
    "for dirpath in DIRPATH:\n",
    "    count=count+1\n",
    "    print(\"Start \"+str(count))\n",
    "    dirp=os.path.join(os.path.abspath('..'),\"data_rec\"+dirpath+\"\\\\\")\n",
    "    filelist=[f for f in os.listdir(dirp)]\n",
    "    jandf = metjandf= pd.DataFrame({\n",
    "        'date': pd.date_range(\n",
    "            start=pd.Timestamp('2019-01'),\n",
    "            end=pd.Timestamp('2019-01') + pd.offsets.MonthEnd(0) + pd.Timedelta(days=1),\n",
    "            freq='S',  # <--- try '3h', '6h', '12h' if you want\n",
    "            closed='left',\n",
    "            tz='Europe/Rome'\n",
    "                )\n",
    "        })\n",
    "    pd.set_option('display.max_rows', 10000)\n",
    "    #display(jandf)\n",
    "    \n",
    "    jandf = jandf.set_index('date')\n",
    "    metjandf = metjandf.set_index('date')\n",
    "    \n",
    "    jandf['hours']=jandf.index.to_series(keep_tz=True).dt.strftime(\"%d-%b-%Y (%H-%M-%S)\")\n",
    "    \n",
    "    metjandf['hours']=metjandf.index.to_series(keep_tz=True).dt.strftime(\"%d-%b-%Y (%H-%M-%S)\")\n",
    "\n",
    "    jandf['power']=metjandf['power']=0\n",
    "    for filepath in filelist:\n",
    "        dataPath=os.path.join(dirp,filepath)\n",
    "        print(filepath)\n",
    "        if(\"Meter\" in filepath):\n",
    "            boolval=True\n",
    "        else:\n",
    "            boolval=False\n",
    "        for chunck in pd.read_csv(dataPath, sep=',',chunksize=500000):\n",
    "            process(chunck,filepath,count,boolval)\n",
    "            print('Fine')\n",
    "            print('-----')\n",
    "    \n",
    "    #Creazione heatmap\n",
    "    getHeatMap(jandf,metjandf,'Jan',dirpath,count,'2019-01') \n",
    "    \n",
    "    \n",
    "    \n",
    "        "
   ]
  },
  {
   "cell_type": "code",
   "execution_count": null,
   "metadata": {
    "pycharm": {
     "is_executing": false
    }
   },
   "outputs": [],
   "source": []
  },
  {
   "cell_type": "code",
   "execution_count": null,
   "metadata": {
    "pycharm": {
     "is_executing": false
    }
   },
   "outputs": [],
   "source": []
  }
 ],
 "metadata": {
  "kernelspec": {
   "display_name": "Python 3",
   "language": "python",
   "name": "python3"
  },
  "language_info": {
   "codemirror_mode": {
    "name": "ipython",
    "version": 3
   },
   "file_extension": ".py",
   "mimetype": "text/x-python",
   "name": "python",
   "nbconvert_exporter": "python",
   "pygments_lexer": "ipython3",
   "version": "3.7.4"
  }
 },
 "nbformat": 4,
 "nbformat_minor": 1
}
