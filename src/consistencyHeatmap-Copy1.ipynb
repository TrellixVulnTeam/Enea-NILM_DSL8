{
 "cells": [
  {
   "cell_type": "code",
   "execution_count": 3,
   "metadata": {
    "pycharm": {
     "is_executing": true
    }
   },
   "outputs": [],
   "source": [
    "import pandas as pd\n",
    "import numpy as np\n",
    "import seaborn as sns\n",
    "import os\n",
    "import matplotlib.colors as colors\n",
    "import matplotlib.pyplot as plt\n",
    "import gc\n",
    "\n",
    "def getHeatMap(newdataf,metdataf,month,dirpath,count,startDate):\n",
    "    #Filtraggio per mese\n",
    "    newdf=newdataf[newdataf['hours'].str.contains(month)]\n",
    "    metdf=metdataf[metdataf['hours'].str.contains(month)]\n",
    "    #display(newdf)\n",
    "    #display(metdf)\n",
    "    #Creazione dataframe finale\n",
    "    finaldf=pd.DataFrame(columns=['hours','bool','power_dev','power_met'])\n",
    "    \n",
    "    finaldf['hours']=newdf['hours']\n",
    "    finaldf['bool'] = np.where(newdf.power <= metdataf.power,1,0).astype(int)\n",
    "    finaldf['power_met']=metdf['power']\n",
    "    finaldf['power_dev']=newdf['power']\n",
    "    finaldf.to_csv('finalcsv',index=False)\n",
    "    writedf=finaldf[finaldf['bool']==0]\n",
    "    heatDir=os.path.join(os.path.abspath('..'),os.path.join(\"check\\\\\",\"EB\"+dirpath[17]))\n",
    "    if not os.path.exists(heatDir):\n",
    "        os.makedirs(heatDir)\n",
    "    heatmapPath=os.path.join(heatDir,month+'.csv')\n",
    "    print(heatmapPath)\n",
    "    writedf.to_csv(heatmapPath,index=False)\n",
    "    \n",
    "    print('HO FINITO')\n",
    "   \n",
    " \n",
    "\n",
    "\n",
    "    \n",
    "\n",
    "    \n",
    "#Funzione che ritorna dataframe in base al mese   \n",
    "def switch_demo(boolval):\n",
    "    global jandf\n",
    "    global metjandf\n",
    "    if(boolval==False):\n",
    "        return jandf\n",
    "    else:\n",
    "        return metjandf\n",
    "#Funzione che assegna le modifiche al dataframe in base al mese\n",
    "def switch_df(df,boolval):\n",
    "    global jandf\n",
    "    global metjandf\n",
    "    if(boolval==False):\n",
    "        jandf=df\n",
    "    else:\n",
    "        metjandf=df\n",
    "def process(df,filepath,count,boolval):\n",
    "    global jandf\n",
    "    global metjandf\n",
    "    df['timestamp'] = pd.to_datetime(df['timestamp'], errors='coerce')\n",
    "    # crea una time series settando la data come index\n",
    "    df = df.set_index('timestamp')\n",
    "    #Aggiungi una colonna contenente  data e ora per heatmap\n",
    "    df['hours']=df.index.to_series(keep_tz=True).dt.strftime(\"%d-%b-%Y (%H-%M-%S)\")\n",
    "    df['day']=df.index.to_series(keep_tz=True).dt.strftime(\"%d\").str.lstrip(\"0\").replace(\" 0\", \" \")\n",
    "    monthList=['Feb']\n",
    "    #Esegui i vari filtraggi e crea un dataframe contenente i valori per ogni mese\n",
    "    for month in monthList:\n",
    "        newdf=df[df['hours'].str.contains(month)]\n",
    "        filterdf=switch_demo(boolval)\n",
    "        filterdf.loc[filterdf.hours.isin(newdf.hours) , 'power'] = filterdf['power']+newdf['power']\n",
    "        switch_df(filterdf,boolval)\n",
    "    del df,newdf,filterdf\n",
    "    gc.collect()\n",
    "        \n",
    "        \n",
    "        \n",
    "    \n",
    " \n"
   ]
  },
  {
   "cell_type": "code",
   "execution_count": 4,
   "metadata": {
    "pycharm": {
     "is_executing": true
    }
   },
   "outputs": [
    {
     "name": "stdout",
     "output_type": "stream",
     "text": [
      "Start 1\n",
      "Dati puntuali Lavatrice EB4 2019.csv\n",
      "Fine\n",
      "-----\n",
      "Fine\n",
      "-----\n",
      "Fine\n",
      "-----\n",
      "Fine\n",
      "-----\n",
      "Fine\n",
      "-----\n",
      "Dati puntuali Meter EB4 2019.csv\n",
      "Fine\n",
      "-----\n",
      "Fine\n",
      "-----\n",
      "Fine\n",
      "-----\n",
      "Fine\n",
      "-----\n",
      "Fine\n",
      "-----\n",
      "Dati puntuali TV EB4 2019.csv\n",
      "Fine\n",
      "-----\n",
      "Fine\n",
      "-----\n",
      "Fine\n",
      "-----\n",
      "Fine\n",
      "-----\n",
      "Fine\n",
      "-----\n",
      "C:\\Users\\giuse\\PycharmProjects\\Enea-NILM45\\check\\EB4\\Feb.csv\n",
      "HO FINITO\n"
     ]
    }
   ],
   "source": [
    "#DIRPATH=[\"\\Dati puntuali EB1 Gennaio-Giugno 2019\",\"\\Dati puntuali EB3 Gennaio-Giugno 2019\",\"\\Dati puntuali EB4 Gennaio-Giugno 2019\",\"\\Dati puntuali EB5 Gennaio-Giugno 2019\",\"\\Dati puntuali EB6 Gennaio-Giugno 2019\",\"\\Dati puntuali EB7 Gennaio-Giugno 2019\",\"\\Dati puntuali EB8 Gennaio-Giugno 2019\",\"\\Dati puntuali EB9 Gennaio-Giugno 2019\"]\n",
    "DIRPATH=[\"\\Dati puntuali EB4 Gennaio-Giugno 2019\"]\n",
    "count=0\n",
    "for dirpath in DIRPATH:\n",
    "    count=count+1\n",
    "    print(\"Start \"+str(count))\n",
    "    dirp=os.path.join(os.path.abspath('..'),\"data_rec\"+dirpath+\"\\\\\")\n",
    "    filelist=[f for f in os.listdir(dirp)]\n",
    "    jandf = metjandf= pd.DataFrame({\n",
    "        'date': pd.date_range(\n",
    "            start=pd.Timestamp('2019-02'),\n",
    "            end=pd.Timestamp('2019-02') + pd.offsets.MonthEnd(0) + pd.Timedelta(days=1),\n",
    "            freq='S',  # <--- try '3h', '6h', '12h' if you want\n",
    "            closed='left',\n",
    "            tz='Europe/Rome'\n",
    "                )\n",
    "        })\n",
    "    \n",
    "    jandf = jandf.set_index('date')\n",
    "    metjandf = metjandf.set_index('date')\n",
    "    \n",
    "    jandf['hours']=jandf.index.to_series(keep_tz=True).dt.strftime(\"%d-%b-%Y (%H-%M-%S)\")\n",
    "    \n",
    "    metjandf['hours']=metjandf.index.to_series(keep_tz=True).dt.strftime(\"%d-%b-%Y (%H-%M-%S)\")\n",
    "\n",
    "    jandf['power']=metjandf['power']=0\n",
    "    for filepath in filelist:\n",
    "        dataPath=os.path.join(dirp,filepath)\n",
    "        print(filepath)\n",
    "        if(\"Meter\" in filepath):\n",
    "            boolval=True\n",
    "        else:\n",
    "            boolval=False\n",
    "        for chunck in pd.read_csv(dataPath, sep=',',chunksize=500000):\n",
    "            process(chunck,filepath,count,boolval)\n",
    "            print('Fine')\n",
    "            print('-----')\n",
    "    \n",
    "    #Creazione heatmap\n",
    "    jandf.to_csv(\"jan.csv\",index=False)\n",
    "    metjandf.to_csv(\"metjan.csv\",index=False)\n",
    "    getHeatMap(jandf,metjandf,'Feb',dirpath,count,'2019-02') \n",
    "    \n",
    "    \n",
    "    \n",
    "        "
   ]
  },
  {
   "cell_type": "code",
   "execution_count": null,
   "metadata": {
    "pycharm": {
     "is_executing": true
    }
   },
   "outputs": [],
   "source": []
  },
  {
   "cell_type": "code",
   "execution_count": null,
   "metadata": {
    "pycharm": {
     "is_executing": true
    }
   },
   "outputs": [],
   "source": []
  }
 ],
 "metadata": {
  "kernelspec": {
   "display_name": "Python 3",
   "language": "python",
   "name": "python3"
  },
  "language_info": {
   "codemirror_mode": {
    "name": "ipython",
    "version": 3
   },
   "file_extension": ".py",
   "mimetype": "text/x-python",
   "name": "python",
   "nbconvert_exporter": "python",
   "pygments_lexer": "ipython3",
   "version": "3.7.4"
  }
 },
 "nbformat": 4,
 "nbformat_minor": 1
}
