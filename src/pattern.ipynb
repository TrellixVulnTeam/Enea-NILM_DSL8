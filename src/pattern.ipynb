{
 "cells": [
  {
   "cell_type": "code",
   "execution_count": null,
   "metadata": {
    "pycharm": {
     "is_executing": false
    }
   },
   "outputs": [],
   "source": []
  },
  {
   "cell_type": "code",
   "execution_count": 1,
   "metadata": {
    "pycharm": {
     "is_executing": false
    }
   },
   "outputs": [],
   "source": [
    "import os\n",
    "import pandas as pd\n",
    "import gc\n",
    "def process(df,filepath,count,pattern):\n",
    "    df['timestamp'] = pd.to_datetime(df['timestamp'],utc=True).dt.tz_convert('Europe/Rome')\n",
    "    #Rimozione timezone \n",
    "    df['app']=df['timestamp'].dt.strftime(\"%Y-%m-%d %H:%M:%S\")\n",
    "    finallist=[]\n",
    "    i=0\n",
    "    #Lista indici da scartare\n",
    "    for x in range(int(len(pattern)/2)):\n",
    "        finallist=finallist+df.app[(df.app >= pattern[i]) & (df.app <= pattern[i+1])].index.tolist()\n",
    "        i=i+2\n",
    "    #Drop degli indici\n",
    "    newdf=df.drop(df.index[finallist])\n",
    "    newdf=newdf.drop(columns=['app'])\n",
    "    return newdf\n",
    "    \n",
    "    "
   ]
  },
  {
   "cell_type": "code",
   "execution_count": 2,
   "metadata": {
    "pycharm": {
     "is_executing": true
    },
    "scrolled": true
   },
   "outputs": [
    {
     "name": "stdout",
     "output_type": "stream",
     "text": [
      "Start 1\n",
      "2019-01-09 03:06:01#2019-01-09 23:59:39#2019-01-10 00:00:01#2019-01-10 23:59:39#2019-01-11 00:00:01#2019-01-11 03:05:10\n",
      "Dati puntuali Frigo EB1 2019.csv\n",
      "['2019-01-09 03:06:01', '2019-01-09 23:59:39', '2019-01-10 00:00:01', '2019-01-10 23:59:39', '2019-01-11 00:00:01', '2019-01-11 03:05:10']\n",
      "C:\\Users\\giuse\\PycharmProjects\\Enea-NILM45\\pattern\\EB1\\Dati puntuali Frigo EB1 2019_Jan.csv\n",
      "Fine\n",
      "FINALISSIMA\n"
     ]
    }
   ],
   "source": [
    "#DIRPATH=[\"\\Dati puntuali EB1 Gennaio-Giugno 2019\",\"\\Dati puntuali EB3 Gennaio-Giugno 2019\",\"\\Dati puntuali EB4 Gennaio-Giugno 2019\",\"\\Dati puntuali EB5 Gennaio-Giugno 2019\",\"\\Dati puntuali EB6 Gennaio-Giugno 2019\",\"\\Dati puntuali EB7 Gennaio-Giugno 2019\",\"\\Dati puntuali EB8 Gennaio-Giugno 2019\",\"\\Dati puntuali EB9 Gennaio-Giugno 2019\"]\n",
    "DIRPATH=[\"\\Dati puntuali EB1 Gennaio-Giugno 2019\"]\n",
    "count=0\n",
    "for dirpath in DIRPATH:\n",
    "    count=count+1\n",
    "    print(\"Start \"+str(count))\n",
    "    dirp=os.path.join(os.path.abspath('..'),\"data_rec\"+dirpath+\"\\\\\")\n",
    "    filelist=[f for f in os.listdir(dirp)]\n",
    "    pd.set_option('display.max_rows', 10000)\n",
    "    month='Jan'\n",
    "    pattern = [str(x) for x in input().split('#')]\n",
    "    for filepath in filelist:\n",
    "        dataPath=os.path.join(dirp,filepath)\n",
    "        print(filepath)\n",
    "        print(pattern)\n",
    "        newdf=process(pd.read_csv(dataPath, sep=','),filepath,count,pattern)\n",
    "        heatDir=os.path.join(os.path.abspath('..'),os.path.join(\"pattern\\\\\",\"EB\"+dirpath[17]))\n",
    "        if not os.path.exists(heatDir):\n",
    "            os.makedirs(heatDir)\n",
    "        heatmapPath=os.path.join(heatDir,filepath[:-4]+\"_\"+month+'.csv')\n",
    "        print(heatmapPath)\n",
    "        newdf.to_csv(heatmapPath,index=False)\n",
    "        print('Fine')\n",
    "    print('FINALISSIMA')\n",
    "    \n",
    "    #Creazione heatmap\n",
    "    #getHeatMap(jandf,metjandf,'Jan',dirpath,count,'2019-01') \n"
   ]
  },
  {
   "cell_type": "code",
   "execution_count": null,
   "metadata": {
    "pycharm": {
     "is_executing": true
    }
   },
   "outputs": [],
   "source": []
  },
  {
   "cell_type": "code",
   "execution_count": null,
   "metadata": {
    "pycharm": {
     "is_executing": true
    }
   },
   "outputs": [],
   "source": []
  }
 ],
 "metadata": {
  "kernelspec": {
   "display_name": "Python 3",
   "language": "python",
   "name": "python3"
  },
  "language_info": {
   "codemirror_mode": {
    "name": "ipython",
    "version": 3
   },
   "file_extension": ".py",
   "mimetype": "text/x-python",
   "name": "python",
   "nbconvert_exporter": "python",
   "pygments_lexer": "ipython3",
   "version": "3.7.4"
  }
 },
 "nbformat": 4,
 "nbformat_minor": 1
}
