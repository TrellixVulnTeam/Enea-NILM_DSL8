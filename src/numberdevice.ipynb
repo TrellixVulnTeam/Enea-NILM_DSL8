{
 "cells": [
  {
   "cell_type": "code",
   "execution_count": 1,
   "metadata": {
    "pycharm": {
     "is_executing": true
    }
   },
   "outputs": [],
   "source": [
    "def getHeatMap(newdf,month,count,numberDevice):\n",
    "    \n",
    "    #Estrai giorno e ora\n",
    "    newdf['day']=newdf['hours'].str[:2]\n",
    "    newdf['h']=newdf['hours'].str[-3:-1]\n",
    "    #Crea nuovo daframe per heatmap\n",
    "    f=pd.DataFrame(columns=['h','count'])\n",
    "    f['day']=newdf['day']\n",
    "    f['h']=newdf['h'].astype(int)\n",
    "    f['count']=newdf['count'].astype(int)\n",
    "    #Crea una pivot table\n",
    "    piv = pd.pivot_table(f, values=\"count\",index=[\"h\"], columns=[\"day\"], fill_value=0)\n",
    "    '''\n",
    "    # This dictionary defines the colormap\n",
    "    cdict = {'red':  ((0.0, 0.8, 0.8),   # no red at 0\n",
    "                  (0.5, 1.0, 1.0),   # all channels set to 1.0 at 0.5 to create white\n",
    "                  (1.0, 0.0, 0.0)),  # set to 0.8 so its not too bright at 1\n",
    "\n",
    "        'green': ((0.0, 0.0, 0.0),   # set to 0.8 so its not too bright at 0\n",
    "                  (0.5, 1.0, 1.0),   # all channels set to 1.0 at 0.5 to create white\n",
    "                  (1.0, 0.8, 0.8)),  # no green at 1\n",
    "\n",
    "        'blue':  ((0.0, 0.0, 0.0),   # no blue at 0\n",
    "                  (0.5, 1.0, 1.0),   # all channels set to 1.0 at 0.5 to create white\n",
    "                  (1.0, 0.0, 0.0))   # no blue at 1\n",
    "       }\n",
    "    #Creazione heatmap con grana 1 secondo\n",
    "    GnRd = colors.LinearSegmentedColormap('GnRd', cdict)\n",
    "    '''\n",
    "    ax = sns.heatmap(piv, mask=piv==0,square=True,linewidths=0.8,cmap=\"RdYlGn\",vmin=1,vmax=numberDevice) \n",
    "    ax.set_title('Numero dispositivi '+'EB'+str(count)+\" \"+month)\n",
    "    ax.set_facecolor(color='#AFC7C7')\n",
    "    figure = ax.get_figure() \n",
    "    heatDir=os.path.join(os.path.abspath('..'),os.path.join(\"heatmap_num_dev\\\\\",\"EB\"+str(count)))\n",
    "    if not os.path.exists(heatDir):\n",
    "        os.makedirs(heatDir)\n",
    "    heatmapPath=os.path.join(heatDir,month+'.png')\n",
    "    figure.savefig(heatmapPath, dpi=400)\n",
    "    plt.clf()\n",
    "#Funzione che ritorna dataframe in base al mese   \n",
    "def switch_demo(argument):\n",
    "    global jandf\n",
    "    global febdf\n",
    "    global mardf\n",
    "    global aprdf\n",
    "    global maydf\n",
    "    global jundf\n",
    "    if(argument=='Jan'):\n",
    "        return jandf\n",
    "    if(argument=='Feb'):\n",
    "        return febdf\n",
    "    if(argument=='Mar'):\n",
    "        return mardf\n",
    "    if(argument=='Apr'):\n",
    "        return aprdf\n",
    "    if(argument=='May'):\n",
    "        return maydf\n",
    "    if(argument=='Jun'):\n",
    "        return jundf\n",
    "    \n",
    "#Funzione che assegna le modifiche al dataframe in base al mese\n",
    "def switch_df(argument,df):\n",
    "    global jandf\n",
    "    global febdf\n",
    "    global mardf\n",
    "    global aprdf\n",
    "    global maydf\n",
    "    global jundf\n",
    "    if(argument=='Jan'):\n",
    "        jandf=df\n",
    "    if(argument=='Feb'):\n",
    "        febdf=df\n",
    "    if(argument=='Mar'):\n",
    "        mardf=df\n",
    "    if(argument=='Apr'):\n",
    "        aprdf=df\n",
    "    if(argument=='May'):\n",
    "        maydf=df\n",
    "    if(argument=='Jun'):\n",
    "        jundf=df\n",
    "\n",
    "def process(chunck,filepath,count):\n",
    "    global jandf\n",
    "    global febdf\n",
    "    global mardf\n",
    "    global aprdf\n",
    "    global maydf\n",
    "    global jundf\n",
    "    df=chunck.loc[:, ('timestamp', 'power')]\n",
    "    # generiamo la data nel formato corretto a partire dal timestamp unix\n",
    "    df['date'] = pd.to_datetime(df['timestamp'], unit='ms').dt.tz_localize(\"GMT\").dt.tz_convert('Europe/Rome')\n",
    "    # arrotondiamo da ms al secondo pi� vicino\n",
    "    df['date'] = df['date'].dt.round('1s')\n",
    "    #df['date'] = pd.to_datetime(df['date'],format=\"%m/%d/%Y\")\n",
    "    df = df[['date', 'power']]\n",
    "    # crea una time series settando la data come index\n",
    "    df = df.set_index('date')\n",
    "    #Raggruppa per data ed effettua la media dei power\n",
    "    df=df.groupby('date')[['power']].mean()\n",
    "    #Aggiungi una colonna contenente  data e ora per heatmap\n",
    "    #df['hours']=df.index.to_series(keep_tz=True).dt.strftime(\"%d-%b-%Y (%H)\")+\n",
    "    newdf=pd.DataFrame(columns=['hours'])\n",
    "    df['hours']=df.index.to_series(keep_tz=True).dt.strftime(\"%d-%b-%Y (%H)\")\n",
    "    monthList=['Jan','Feb','Mar','Apr','May','Jun']\n",
    "    \n",
    "    #Esegui i vari filtraggi e crea un dataframe contenente i valori per ogni mese\n",
    "    for month in monthList:\n",
    "        newdf=df[df['hours'].str.contains(month)]\n",
    "        filterdf=switch_demo(month)\n",
    "        filterdf.loc[filterdf.hours.isin(newdf.hours), 'bool'] =filterdf['bool']+1\n",
    "        filterdf.loc[(filterdf['bool']==1) & (filterdf.hours.isin(newdf.hours)) , 'count'] = filterdf['count']+1\n",
    "        switch_df(month,filterdf)\n",
    " \n",
    "\n",
    "\n",
    "    \n",
    "    \n",
    "    \n",
    "\n",
    "\n",
    "\n",
    "\n",
    "\n",
    "\n",
    "\n"
   ]
  },
  {
   "cell_type": "code",
   "execution_count": 2,
   "metadata": {
    "pycharm": {
     "is_executing": true
    }
   },
   "outputs": [
    {
     "name": "stdout",
     "output_type": "stream",
     "text": [
      "Start 1\n",
      "Dati puntuali Frigo EB1 2019.csv\n",
      "Dati puntuali Lavastoviglie EB1 2019.csv\n",
      "Dati puntuali Lavatrice EB1 2019.csv\n",
      "FiNE\n",
      "Start 2\n",
      "FiNE\n",
      "Start 3\n",
      "Dati puntuali FrigoEB3 2019.csv\n",
      "Dati puntuali Microonde EB3 2019.csv\n",
      "FiNE\n",
      "Start 4\n",
      "Dati puntuali Lavatrice EB4 2019.csv\n",
      "Dati puntuali TV EB4 2019.csv\n",
      "FiNE\n",
      "Start 5\n",
      "Dati puntuali Lavastoviglie EB5 2019.csv\n",
      "Dati puntuali Lavatrice EB5 2019.csv\n",
      "FiNE\n",
      "Start 6\n",
      "Dati puntuali Frigo EB6 2019.csv\n",
      "Dati puntuali Lavastoviglie EB6 2019.csv\n",
      "Dati puntuali Lavatrice EB6 2019.csv\n",
      "Dati puntuali Microonde EB6 2019.csv\n",
      "FiNE\n",
      "Start 7\n",
      "Dati puntuali Frigo EB7 2019.csv\n",
      "Dati puntuali Lavastoviglie EB7 2019.csv\n",
      "Dati puntuali Lavatrice EB7 2019.csv\n",
      "Dati puntuali Microonde EB7 2019.csv\n",
      "FiNE\n",
      "Start 8\n",
      "Dati puntuali Lavatrice EB8 2019.csv\n",
      "FiNE\n",
      "Start 9\n",
      "Dati puntuali Frigo EB9 2019.csv\n",
      "Dati puntuali Lavastoviglie EB9 2019.csv\n",
      "Dati puntuali Lavatrice EB9 2019.csv\n",
      "Dati puntuali Microonde EB9 2019.csv\n",
      "FiNE\n"
     ]
    }
   ],
   "source": [
    "import seaborn as sns\n",
    "import os\n",
    "import matplotlib.colors as colors\n",
    "import matplotlib.pyplot as plt\n",
    "import pandas as pd\n",
    "DIRPATH=[\"\\Dati puntuali EB1 Gennaio-Giugno 2019\",\"\\Dati puntuali EB2 Gennaio-Giugno 2019\",\"\\Dati puntuali EB3 Gennaio-Giugno 2019\",\"\\Dati puntuali EB4 Gennaio-Giugno 2019\",\"\\Dati puntuali EB5 Gennaio-Giugno 2019\",\"\\Dati puntuali EB6 Gennaio-Giugno 2019\",\"\\Dati puntuali EB7 Gennaio-Giugno 2019\",\"\\Dati puntuali EB8 Gennaio-Giugno 2019\",\"\\Dati puntuali EB9 Gennaio-Giugno 2019\"]\n",
    "#DIRPATH=[\"\\Dati puntuali EB1 Gennaio-Giugno 2019\"]\n",
    "count=0\n",
    "for dirpath in DIRPATH:\n",
    "    #Creazione dataframe vuoti per ogni mese\n",
    "    jandf = pd.DataFrame({\n",
    "    'date': pd.date_range(\n",
    "        start=pd.Timestamp('2019-01'),\n",
    "        end=pd.Timestamp('2019-01') + pd.offsets.MonthEnd(0) + pd.Timedelta(days=1),\n",
    "        freq='H',  # <--- try '3h', '6h', '12h' if you want\n",
    "        closed='left'\n",
    "            )\n",
    "    })\n",
    "    febdf = pd.DataFrame({\n",
    "    'date': pd.date_range(\n",
    "        start=pd.Timestamp('2019-02'),\n",
    "        end=pd.Timestamp('2019-02') + pd.offsets.MonthEnd(0) + pd.Timedelta(days=1),\n",
    "        freq='H',  # <--- try '3h', '6h', '12h' if you want\n",
    "        closed='left'\n",
    "            )\n",
    "    })\n",
    "    mardf = pd.DataFrame({\n",
    "    'date': pd.date_range(\n",
    "        start=pd.Timestamp('2019-03'),\n",
    "        end=pd.Timestamp('2019-03') + pd.offsets.MonthEnd(0) + pd.Timedelta(days=1),\n",
    "        freq='H',  # <--- try '3h', '6h', '12h' if you want\n",
    "        closed='left'\n",
    "            )\n",
    "    })\n",
    "    aprdf = pd.DataFrame({\n",
    "    'date': pd.date_range(\n",
    "        start=pd.Timestamp('2019-04'),\n",
    "        end=pd.Timestamp('2019-04') + pd.offsets.MonthEnd(0) + pd.Timedelta(days=1),\n",
    "        freq='H',  # <--- try '3h', '6h', '12h' if you want\n",
    "        closed='left'\n",
    "            )\n",
    "    })\n",
    "    maydf = pd.DataFrame({\n",
    "    'date': pd.date_range(\n",
    "        start=pd.Timestamp('2019-05'),\n",
    "        end=pd.Timestamp('2019-05') + pd.offsets.MonthEnd(0) + pd.Timedelta(days=1),\n",
    "        freq='H',  # <--- try '3h', '6h', '12h' if you want\n",
    "        closed='left'\n",
    "            )\n",
    "    })\n",
    "    jundf = pd.DataFrame({\n",
    "    'date': pd.date_range(\n",
    "        start=pd.Timestamp('2019-06'),\n",
    "        end=pd.Timestamp('2019-06') + pd.offsets.MonthEnd(0) + pd.Timedelta(days=1),\n",
    "        freq='H',  # <--- try '3h', '6h', '12h' if you want\n",
    "        closed='left'\n",
    "            )\n",
    "    })\n",
    "    jandf = jandf.set_index('date')\n",
    "    febdf = febdf.set_index('date')\n",
    "    mardf = mardf.set_index('date')\n",
    "    aprdf = aprdf.set_index('date')\n",
    "    maydf = maydf.set_index('date')\n",
    "    jundf = jundf.set_index('date')\n",
    "    jandf['hours']=jandf.index.to_series(keep_tz=True).dt.strftime(\"%d-%b-%Y (%H)\")\n",
    "    febdf['hours']=febdf.index.to_series(keep_tz=True).dt.strftime(\"%d-%b-%Y (%H)\")\n",
    "    mardf['hours']=mardf.index.to_series(keep_tz=True).dt.strftime(\"%d-%b-%Y (%H)\")\n",
    "    aprdf['hours']=aprdf.index.to_series(keep_tz=True).dt.strftime(\"%d-%b-%Y (%H)\")\n",
    "    maydf['hours']=maydf.index.to_series(keep_tz=True).dt.strftime(\"%d-%b-%Y (%H)\")\n",
    "    jundf['hours']=jundf.index.to_series(keep_tz=True).dt.strftime(\"%d-%b-%Y (%H)\")\n",
    "    jandf['count']= febdf['count']= mardf['count']= aprdf['count']= maydf['count']= jundf['count']=0\n",
    "    count=count+1\n",
    "    print(\"Start \"+str(count))\n",
    "    dirp=os.path.join(os.path.abspath('..'),\"data\"+dirpath+\"\\\\\")\n",
    "    filelist=[f for f in os.listdir(dirp)]\n",
    "    #Numero di appliance per casa\n",
    "    numberDevice=len(filelist)-1\n",
    "    for filepath in filelist:\n",
    "        if(\"Meter\" in filepath):\n",
    "            continue\n",
    "        print(filepath)\n",
    "        jandf['bool']= febdf['bool']= mardf['bool']= aprdf['bool']= maydf['bool']= jundf['bool']=0\n",
    "        dataPath=os.path.join(dirp,filepath)\n",
    "        for chunck in pd.read_csv(dataPath, sep=';',chunksize=500000):\n",
    "            process(chunck,filepath,count)\n",
    "    #pd.set_option('display.max_rows', 10000)\n",
    "    #display(jundf)\n",
    "    getHeatMap(jandf,'Jan',count,numberDevice)\n",
    "    getHeatMap(febdf,'Feb',count,numberDevice)\n",
    "    getHeatMap(mardf,'Mar',count,numberDevice)\n",
    "    getHeatMap(aprdf,'Apr',count,numberDevice)\n",
    "    getHeatMap(maydf,'May',count,numberDevice)\n",
    "    getHeatMap(jundf,'Jun',count,numberDevice)\n",
    "    print('FiNE')"
   ]
  },
  {
   "cell_type": "code",
   "execution_count": null,
   "metadata": {
    "pycharm": {
     "is_executing": true
    }
   },
   "outputs": [],
   "source": []
  },
  {
   "cell_type": "code",
   "execution_count": null,
   "metadata": {
    "pycharm": {
     "is_executing": true
    }
   },
   "outputs": [],
   "source": []
  },
  {
   "cell_type": "code",
   "execution_count": null,
   "metadata": {
    "pycharm": {
     "is_executing": true
    }
   },
   "outputs": [],
   "source": []
  },
  {
   "cell_type": "code",
   "execution_count": null,
   "metadata": {
    "pycharm": {
     "is_executing": true
    }
   },
   "outputs": [],
   "source": []
  },
  {
   "cell_type": "code",
   "execution_count": null,
   "metadata": {
    "pycharm": {
     "is_executing": true
    }
   },
   "outputs": [],
   "source": []
  },
  {
   "cell_type": "code",
   "execution_count": null,
   "metadata": {
    "pycharm": {
     "is_executing": true
    }
   },
   "outputs": [],
   "source": []
  },
  {
   "cell_type": "code",
   "execution_count": null,
   "metadata": {
    "pycharm": {
     "is_executing": true
    }
   },
   "outputs": [],
   "source": []
  },
  {
   "cell_type": "code",
   "execution_count": null,
   "metadata": {
    "pycharm": {
     "is_executing": true
    }
   },
   "outputs": [],
   "source": []
  },
  {
   "cell_type": "code",
   "execution_count": null,
   "metadata": {
    "pycharm": {
     "is_executing": true
    }
   },
   "outputs": [],
   "source": []
  },
  {
   "cell_type": "code",
   "execution_count": null,
   "metadata": {
    "pycharm": {
     "is_executing": true
    }
   },
   "outputs": [],
   "source": []
  },
  {
   "cell_type": "code",
   "execution_count": null,
   "metadata": {
    "pycharm": {
     "is_executing": true
    }
   },
   "outputs": [],
   "source": []
  },
  {
   "cell_type": "code",
   "execution_count": null,
   "metadata": {
    "pycharm": {
     "is_executing": true
    }
   },
   "outputs": [],
   "source": []
  },
  {
   "cell_type": "code",
   "execution_count": null,
   "metadata": {
    "pycharm": {
     "is_executing": true
    }
   },
   "outputs": [],
   "source": []
  },
  {
   "cell_type": "code",
   "execution_count": null,
   "metadata": {
    "pycharm": {
     "is_executing": true
    }
   },
   "outputs": [],
   "source": []
  },
  {
   "cell_type": "code",
   "execution_count": null,
   "metadata": {
    "pycharm": {
     "is_executing": true
    }
   },
   "outputs": [],
   "source": []
  }
 ],
 "metadata": {
  "kernelspec": {
   "display_name": "Python 3",
   "language": "python",
   "name": "python3"
  },
  "language_info": {
   "codemirror_mode": {
    "name": "ipython",
    "version": 3
   },
   "file_extension": ".py",
   "mimetype": "text/x-python",
   "name": "python",
   "nbconvert_exporter": "python",
   "pygments_lexer": "ipython3",
   "version": "3.7.4"
  }
 },
 "nbformat": 4,
 "nbformat_minor": 1
}
