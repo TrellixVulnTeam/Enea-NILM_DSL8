{
 "cells": [
  {
   "cell_type": "code",
   "execution_count": 5,
   "metadata": {
    "collapsed": true,
    "pycharm": {
     "is_executing": false
    }
   },
   "outputs": [],
   "source": [
    "import os\n",
    "import pandas as pd\n",
    "import matplotlib.pyplot as plt\n",
    "import matplotlib.dates as mdates\n"
   ]
  },
  {
   "cell_type": "code",
   "execution_count": 6,
   "outputs": [],
   "source": [
    "from IPython.core.display import display\n",
    "def plotMonthly(df,file_name,dir_path,month):\n",
    "    \n",
    "    df[\"timestamp\"] = pd.to_datetime(df['timestamp'])\n",
    "    df = df.set_index('timestamp')\n",
    "\n",
    "    plot_dir = os.path.join(os.path.abspath('..'),'plotMonthly_perSecond')        \n",
    "    if not os.path.exists(plot_dir):\n",
    "      os.mkdir(plot_dir)\n",
    "    dir_EB = os.path.join(plot_dir,dir_path)\n",
    "    if not os.path.exists(dir_EB):\n",
    "       os.mkdir(dir_EB)\n",
    "\n",
    "    ax = df.plot()\n",
    "    \n",
    "    path_plot = os.path.join(dir_EB,file_name + month+\".png\")\n",
    "    ax.set_title(file_name + \" \" + month)\n",
    "    fig = ax.get_figure()\n",
    "    fig.savefig(path_plot)\n",
    "    "
   ],
   "metadata": {
    "collapsed": false,
    "pycharm": {
     "name": "#%%\n",
     "is_executing": false
    }
   }
  },
  {
   "cell_type": "code",
   "execution_count": 7,
   "outputs": [],
   "source": [
    "def createDFmonthly(df,file_name,dir_path):\n",
    "    \n",
    "    if not df[df['timestamp'].str.contains('2019-01')].empty:\n",
    "        dfMonth = df[df['timestamp'].str.contains('2019-01')]\n",
    "        plotMonthly(dfMonth,file_name,dir_path,'JAN')\n",
    "        df = df[~df['timestamp'].str.contains('2019-01')]\n",
    "\n",
    "    if not df[df['timestamp'].str.contains('2019-02')].empty:\n",
    "        dfMonth = df[df['timestamp'].str.contains('2019-02')]\n",
    "        plotMonthly(dfMonth,file_name,dir_path,'FEB')\n",
    "        df = df[~df['timestamp'].str.contains('2019-02')]\n",
    "\n",
    "    \n",
    "    if not df[df['timestamp'].str.contains('2019-03')].empty:\n",
    "        dfMonth = df[df['timestamp'].str.contains('2019-03')]\n",
    "        plotMonthly(dfMonth,file_name,dir_path,'MAR')\n",
    "        df = df[~df['timestamp'].str.contains('2019-03')]\n",
    "\n",
    "    if not df[df['timestamp'].str.contains('2019-04')].empty:\n",
    "        dfMonth = df[df['timestamp'].str.contains('2019-04')]\n",
    "        plotMonthly(dfMonth,file_name,dir_path,'APRIL')\n",
    "        df = df[~df['timestamp'].str.contains('2019-04')]\n",
    "\n",
    "    \n",
    "    if not df[df['timestamp'].str.contains('2019-05')].empty:\n",
    "        dfMonth = df[df['timestamp'].str.contains('2019-05')]\n",
    "        plotMonthly(dfMonth,file_name,dir_path,'MAY')\n",
    "        df = df[~df['timestamp'].str.contains('2019-05')]\n",
    "    \n",
    "    if not df[df['timestamp'].str.contains('2019-06')].empty:\n",
    "        dfMonth = df[df['timestamp'].str.contains('2019-06')]\n",
    "        plotMonthly(dfMonth,file_name,dir_path,'JUN')\n",
    "    \n",
    "    \n",
    "    "
   ],
   "metadata": {
    "collapsed": false,
    "pycharm": {
     "name": "#%%\n",
     "is_executing": false
    }
   }
  },
  {
   "cell_type": "code",
   "execution_count": 8,
   "outputs": [
    {
     "data": {
      "image/png": "[encoded data removed]",
      "text/plain": "<Figure size 432x288 with 1 Axes>"
     },
     "metadata": {
      "needs_background": "light"
     },
     "output_type": "display_data"
    }
   ],
   "source": [
    "PATH = '../Dati ricostruiti al secondo'\n",
    "\n",
    "for r,dir,f in os.walk(PATH):\n",
    "    for d in dir:\n",
    "        DIR_PATH = d\n",
    "        p = os.path.join(r,DIR_PATH)\n",
    "        for r1,d1,f1 in os.walk(p):\n",
    "            for file in f1 :\n",
    "                chunksize = 50000\n",
    "                file_path = os.path.join(PATH,DIR_PATH,file)\n",
    "                df = pd.read_csv(file_path, sep=',', chunksize=chunksize, iterator=True)\n",
    "                df = pd.concat(df, ignore_index=True)\n",
    "                file_name = file.split('.')[0]\n",
    "                \n",
    "                createDFmonthly(df,file_name,DIR_PATH)\n",
    "                "
   ],
   "metadata": {
    "collapsed": false,
    "pycharm": {
     "name": "#%%\n",
     "is_executing": false
    }
   }
  }
 ],
 "metadata": {
  "language_info": {
   "codemirror_mode": {
    "name": "ipython",
    "version": 2
   },
   "file_extension": ".py",
   "mimetype": "text/x-python",
   "name": "python",
   "nbconvert_exporter": "python",
   "pygments_lexer": "ipython2",
   "version": "2.7.6"
  },
  "kernelspec": {
   "name": "pycharm-e43341fc",
   "language": "python",
   "display_name": "PyCharm (TESI)"
  },
  "pycharm": {
   "stem_cell": {
    "cell_type": "raw",
    "source": [],
    "metadata": {
     "collapsed": false
    }
   }
  }
 },
 "nbformat": 4,
 "nbformat_minor": 0
}