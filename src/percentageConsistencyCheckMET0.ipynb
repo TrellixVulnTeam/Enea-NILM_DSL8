{
 "cells": [
  {
   "cell_type": "code",
   "execution_count": 17,
   "metadata": {
    "collapsed": true,
    "pycharm": {
     "is_executing": false
    }
   },
   "outputs": [],
   "source": [
    "import pandas as pd\n",
    "import os\n",
    "from IPython.core.display import display\n",
    "import numpy as np"
   ]
  },
  {
   "cell_type": "code",
   "execution_count": 18,
   "outputs": [],
   "source": [
    "tot_jan = 60*60*24*31\n",
    "tot_feb = 60*60*24*28\n",
    "tot_mar = 60*60*24*31\n",
    "tot_april = 60*60*24*30\n",
    "tot_may = 60*60*24*31\n",
    "tot_jun = 60*60*24*30"
   ],
   "metadata": {
    "collapsed": false,
    "pycharm": {
     "name": "#%%\n",
     "is_executing": false
    }
   }
  },
  {
   "cell_type": "code",
   "execution_count": 19,
   "outputs": [],
   "source": [
    "def process(df,count,dfPercentage,dfRows):\n",
    "    \n",
    "    df = df.set_index('hours')\n",
    "    num_rows = len(df.index)\n",
    "    \n",
    "    dfpowerMet = df.loc[(np.isnan(df['power_met'])) & (np.isnan(df['power_dev']))]\n",
    "    num_rows_met_0 = len(dfpowerMet.index)\n",
    "    display(num_rows_met_0)\n",
    "    num_rows = num_rows - num_rows_met_0\n",
    "    \n",
    "    if file=='Jan.csv':\n",
    "        dfPercentage.at[count,'JAN'] = round(num_rows/tot_jan,7)\n",
    "        dfRows.at[count,'JAN'] = num_rows\n",
    "        display(num_rows)\n",
    "\n",
    "    if file=='Feb.csv':\n",
    "        dfPercentage.at[count,'FEB'] = round(num_rows/tot_feb,7)\n",
    "        dfRows.at[count,'FEB'] = num_rows\n",
    "        display(num_rows)\n",
    "\n",
    "    if file=='Mar.csv':\n",
    "        dfPercentage.at[count,'MAR'] = round(num_rows/tot_mar,7)\n",
    "        dfRows.at[count,'MAR'] = num_rows\n",
    "        display(num_rows)\n",
    "\n",
    "    if file=='Apr.csv':\n",
    "        dfPercentage.at[count,'APRIL'] = round(num_rows/tot_april,7)\n",
    "        dfRows.at[count,'APRIL'] = num_rows\n",
    "        display(num_rows)\n",
    "\n",
    "    if file=='May.csv':\n",
    "        dfPercentage.at[count,'MAY'] = round(num_rows/tot_may,7)\n",
    "        dfRows.at[count,'MAY'] = num_rows    \n",
    "        display(num_rows) \n",
    "        \n",
    "    if file=='Jun.csv':\n",
    "        dfPercentage.at[count,'JUN'] = round(num_rows/tot_jun,7)\n",
    "        dfRows.at[count,'JUN'] = num_rows    \n",
    "        display(num_rows) "
   ],
   "metadata": {
    "collapsed": false,
    "pycharm": {
     "name": "#%%\n",
     "is_executing": false
    }
   }
  },
  {
   "cell_type": "code",
   "execution_count": 20,
   "outputs": [
    {
     "data": {
      "text/plain": "11279007"
     },
     "metadata": {},
     "output_type": "display_data"
    },
    {
     "data": {
      "text/plain": "'EB6'"
     },
     "metadata": {},
     "output_type": "display_data"
    },
    {
     "data": {
      "text/plain": "1989069"
     },
     "metadata": {},
     "output_type": "display_data"
    },
    {
     "data": {
      "text/plain": "86064"
     },
     "metadata": {},
     "output_type": "display_data"
    },
    {
     "data": {
      "text/plain": "2102284"
     },
     "metadata": {},
     "output_type": "display_data"
    },
    {
     "data": {
      "text/plain": "53927"
     },
     "metadata": {},
     "output_type": "display_data"
    },
    {
     "data": {
      "text/plain": "2436517"
     },
     "metadata": {},
     "output_type": "display_data"
    },
    {
     "data": {
      "text/plain": "47311"
     },
     "metadata": {},
     "output_type": "display_data"
    },
    {
     "data": {
      "text/plain": "1911400"
     },
     "metadata": {},
     "output_type": "display_data"
    },
    {
     "data": {
      "text/plain": "65024"
     },
     "metadata": {},
     "output_type": "display_data"
    },
    {
     "data": {
      "text/plain": "2043007"
     },
     "metadata": {},
     "output_type": "display_data"
    },
    {
     "data": {
      "text/plain": "60081"
     },
     "metadata": {},
     "output_type": "display_data"
    }
   ],
   "source": [
    "PATH = '../check'\n",
    "count = 0\n",
    "dfPercentage=pd.DataFrame(columns=['HOUSE','JAN','FEB','MAR','APRIL','MAY','JUN','TOT'])\n",
    "dfRows=pd.DataFrame(columns=['HOUSE','JAN','FEB','MAR','APRIL','MAY','JUN','TOT'])\n",
    "\n",
    "total_complete_rows = tot_jan+tot_feb+tot_mar+tot_april+tot_may+tot_jun\n",
    "display(total_complete_rows)\n",
    "\n",
    "for r,dir,f in os.walk(PATH):\n",
    "    for d in dir:\n",
    "        DIR_PATH = d\n",
    "        display(DIR_PATH)\n",
    "        count = count + 1\n",
    "        dfPercentage.at[count,'HOUSE'] = DIR_PATH\n",
    "        dfRows.at[count,'HOUSE'] = DIR_PATH\n",
    "        p = os.path.join(r,DIR_PATH)\n",
    "        for r1,d1,f1 in os.walk(p):\n",
    "            for file in f1 :\n",
    "                chunksize = 50000\n",
    "                file_path = os.path.join(PATH,DIR_PATH,file)\n",
    "                df = pd.read_csv(file_path, sep=',', chunksize=chunksize, iterator=True)\n",
    "                df = pd.concat(df, ignore_index=True)\n",
    "                file_name = file.split('.')[0]\n",
    "                process(df,count,dfPercentage,dfRows)               \n",
    "\n",
    "        dfRows = dfRows.fillna(0.0)\n",
    "        \n",
    "        total_rows = dfRows.at[count,'JAN'] +dfRows.at[count,'FEB'] + dfRows.at[count,'MAR'] + dfRows.at[count,'APRIL'] + dfRows.at[count,'MAY'] + dfRows.at[count,'JUN']\n",
    "        dfPercentage.at[count,'TOT'] = round(total_rows/total_complete_rows,7)\n",
    "        dfRows.at[count,'TOT'] = total_rows\n",
    "\n",
    "        csv_dir = os.path.join(os.path.abspath('..'),'PERC_Consistency_MET_FINAL')        \n",
    "        if not os.path.exists(csv_dir):\n",
    "           os.mkdir(csv_dir)\n",
    "    \n",
    "        dfPercentage.to_csv(os.path.join(csv_dir,\"percentageMET_FINAL_6.csv\"),index=False)\n",
    "        #dfRows.to_csv(os.path.join(csv_dir,\"totalMET_FINAL_1.csv\"),index=False)\n",
    "\n"
   ],
   "metadata": {
    "collapsed": false,
    "pycharm": {
     "name": "#%%\n",
     "is_executing": false
    }
   }
  }
 ],
 "metadata": {
  "language_info": {
   "codemirror_mode": {
    "name": "ipython",
    "version": 2
   },
   "file_extension": ".py",
   "mimetype": "text/x-python",
   "name": "python",
   "nbconvert_exporter": "python",
   "pygments_lexer": "ipython2",
   "version": "2.7.6"
  },
  "kernelspec": {
   "name": "pycharm-e43341fc",
   "language": "python",
   "display_name": "PyCharm (TESI)"
  },
  "pycharm": {
   "stem_cell": {
    "cell_type": "raw",
    "source": [],
    "metadata": {
     "collapsed": false
    }
   }
  }
 },
 "nbformat": 4,
 "nbformat_minor": 0
}