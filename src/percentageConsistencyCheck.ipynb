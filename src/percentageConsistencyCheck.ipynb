{
 "cells": [
  {
   "cell_type": "code",
   "execution_count": 86,
   "outputs": [],
   "source": [
    "import pandas as pd\n",
    "import numpy as np\n",
    "import os\n",
    "from IPython.core.display import display"
   ],
   "metadata": {
    "collapsed": false,
    "pycharm": {
     "name": "#%%\n",
     "is_executing": false
    }
   }
  },
  {
   "cell_type": "code",
   "execution_count": 87,
   "outputs": [
    {
     "data": {
      "text/plain": "2678400"
     },
     "metadata": {},
     "output_type": "display_data"
    },
    {
     "data": {
      "text/plain": "2419200"
     },
     "metadata": {},
     "output_type": "display_data"
    },
    {
     "data": {
      "text/plain": "2678400"
     },
     "metadata": {},
     "output_type": "display_data"
    },
    {
     "data": {
      "text/plain": "2592000"
     },
     "metadata": {},
     "output_type": "display_data"
    },
    {
     "data": {
      "text/plain": "2678400"
     },
     "metadata": {},
     "output_type": "display_data"
    }
   ],
   "source": [
    "tot_jan = 60*60*24*31\n",
    "tot_feb = 60*60*24*28\n",
    "tot_mar = 60*60*24*31\n",
    "tot_april = 60*60*24*30\n",
    "tot_may = 60*60*24*31\n",
    "display(tot_jan)\n",
    "display(tot_feb)\n",
    "display(tot_mar)\n",
    "display(tot_april)\n",
    "display(tot_may)"
   ],
   "metadata": {
    "collapsed": false,
    "pycharm": {
     "name": "#%%\n",
     "is_executing": false
    }
   }
  },
  {
   "cell_type": "code",
   "execution_count": 88,
   "outputs": [],
   "source": [
    "def process(df,count,dfPercentage,dfRows):\n",
    "    \n",
    "    df = df.set_index('hours')\n",
    "    num_rows = len(df.index)\n",
    "    \n",
    "    if file=='Jan.csv':\n",
    "        dfPercentage.at[count,'JAN'] = round(num_rows/tot_jan,7)\n",
    "        dfRows.at[count,'JAN'] = num_rows\n",
    "        display(num_rows)\n",
    "\n",
    "    if file=='Feb.csv':\n",
    "        dfPercentage.at[count,'FEB'] = round(num_rows/tot_feb,7)\n",
    "        dfRows.at[count,'FEB'] = num_rows\n",
    "        display(num_rows)\n",
    "\n",
    "    if file=='Mar.csv':\n",
    "        dfPercentage.at[count,'MAR'] = round(num_rows/tot_mar,7)\n",
    "        dfRows.at[count,'MAR'] = num_rows\n",
    "        display(num_rows)\n",
    "\n",
    "    if file=='Apr.csv':\n",
    "        dfPercentage.at[count,'APRIL'] = round(num_rows/tot_april,7)\n",
    "        dfRows.at[count,'APRIL'] = num_rows\n",
    "        display(num_rows)\n",
    "\n",
    "    if file=='May.csv':\n",
    "        dfPercentage.at[count,'MAY'] = round(num_rows/tot_may,7)\n",
    "        dfRows.at[count,'MAY'] = num_rows    \n",
    "        display(num_rows)   "
   ],
   "metadata": {
    "collapsed": false,
    "pycharm": {
     "name": "#%%\n",
     "is_executing": false
    }
   }
  },
  {
   "cell_type": "code",
   "execution_count": 89,
   "outputs": [
    {
     "data": {
      "text/plain": "13046400"
     },
     "metadata": {},
     "output_type": "display_data"
    },
    {
     "data": {
      "text/plain": "'EB4'"
     },
     "metadata": {},
     "output_type": "display_data"
    },
    {
     "data": {
      "text/plain": "1271"
     },
     "metadata": {},
     "output_type": "display_data"
    },
    {
     "data": {
      "text/plain": "0"
     },
     "metadata": {},
     "output_type": "display_data"
    },
    {
     "data": {
      "text/plain": "156"
     },
     "metadata": {},
     "output_type": "display_data"
    },
    {
     "data": {
      "text/plain": "1151"
     },
     "metadata": {},
     "output_type": "display_data"
    },
    {
     "data": {
      "text/plain": "'EB9'"
     },
     "metadata": {},
     "output_type": "display_data"
    },
    {
     "data": {
      "text/plain": "2485207"
     },
     "metadata": {},
     "output_type": "display_data"
    },
    {
     "data": {
      "text/plain": "59772"
     },
     "metadata": {},
     "output_type": "display_data"
    },
    {
     "data": {
      "text/plain": "33780"
     },
     "metadata": {},
     "output_type": "display_data"
    },
    {
     "data": {
      "text/plain": "29871"
     },
     "metadata": {},
     "output_type": "display_data"
    },
    {
     "data": {
      "text/plain": "'EB8'"
     },
     "metadata": {},
     "output_type": "display_data"
    },
    {
     "data": {
      "text/plain": "2000"
     },
     "metadata": {},
     "output_type": "display_data"
    },
    {
     "data": {
      "text/plain": "10134"
     },
     "metadata": {},
     "output_type": "display_data"
    },
    {
     "data": {
      "text/plain": "1964"
     },
     "metadata": {},
     "output_type": "display_data"
    },
    {
     "data": {
      "text/plain": "7412"
     },
     "metadata": {},
     "output_type": "display_data"
    },
    {
     "data": {
      "text/plain": "12502"
     },
     "metadata": {},
     "output_type": "display_data"
    },
    {
     "data": {
      "text/plain": "'EB5'"
     },
     "metadata": {},
     "output_type": "display_data"
    },
    {
     "data": {
      "text/plain": "7639"
     },
     "metadata": {},
     "output_type": "display_data"
    },
    {
     "data": {
      "text/plain": "342119"
     },
     "metadata": {},
     "output_type": "display_data"
    },
    {
     "data": {
      "text/plain": "11972"
     },
     "metadata": {},
     "output_type": "display_data"
    },
    {
     "data": {
      "text/plain": "8161"
     },
     "metadata": {},
     "output_type": "display_data"
    },
    {
     "data": {
      "text/plain": "0"
     },
     "metadata": {},
     "output_type": "display_data"
    },
    {
     "data": {
      "text/plain": "'EB7'"
     },
     "metadata": {},
     "output_type": "display_data"
    },
    {
     "data": {
      "text/plain": "19171"
     },
     "metadata": {},
     "output_type": "display_data"
    },
    {
     "data": {
      "text/plain": "9030"
     },
     "metadata": {},
     "output_type": "display_data"
    },
    {
     "data": {
      "text/plain": "959621"
     },
     "metadata": {},
     "output_type": "display_data"
    },
    {
     "data": {
      "text/plain": "7928"
     },
     "metadata": {},
     "output_type": "display_data"
    },
    {
     "data": {
      "text/plain": "45755"
     },
     "metadata": {},
     "output_type": "display_data"
    },
    {
     "data": {
      "text/plain": "'EB4TV'"
     },
     "metadata": {},
     "output_type": "display_data"
    },
    {
     "data": {
      "text/plain": "7249"
     },
     "metadata": {},
     "output_type": "display_data"
    },
    {
     "data": {
      "text/plain": "1821"
     },
     "metadata": {},
     "output_type": "display_data"
    },
    {
     "data": {
      "text/plain": "8086"
     },
     "metadata": {},
     "output_type": "display_data"
    },
    {
     "data": {
      "text/plain": "156"
     },
     "metadata": {},
     "output_type": "display_data"
    },
    {
     "data": {
      "text/plain": "1151"
     },
     "metadata": {},
     "output_type": "display_data"
    },
    {
     "data": {
      "text/plain": "'EB6'"
     },
     "metadata": {},
     "output_type": "display_data"
    },
    {
     "data": {
      "text/plain": "92742"
     },
     "metadata": {},
     "output_type": "display_data"
    },
    {
     "data": {
      "text/plain": "20100"
     },
     "metadata": {},
     "output_type": "display_data"
    },
    {
     "data": {
      "text/plain": "1767875"
     },
     "metadata": {},
     "output_type": "display_data"
    },
    {
     "data": {
      "text/plain": "46757"
     },
     "metadata": {},
     "output_type": "display_data"
    },
    {
     "data": {
      "text/plain": "28625"
     },
     "metadata": {},
     "output_type": "display_data"
    },
    {
     "data": {
      "text/plain": "'EB3'"
     },
     "metadata": {},
     "output_type": "display_data"
    },
    {
     "data": {
      "text/plain": "66226"
     },
     "metadata": {},
     "output_type": "display_data"
    },
    {
     "data": {
      "text/plain": "68247"
     },
     "metadata": {},
     "output_type": "display_data"
    },
    {
     "data": {
      "text/plain": "182639"
     },
     "metadata": {},
     "output_type": "display_data"
    },
    {
     "data": {
      "text/plain": "81217"
     },
     "metadata": {},
     "output_type": "display_data"
    },
    {
     "data": {
      "text/plain": "55236"
     },
     "metadata": {},
     "output_type": "display_data"
    },
    {
     "data": {
      "text/plain": "'EB1'"
     },
     "metadata": {},
     "output_type": "display_data"
    },
    {
     "data": {
      "text/plain": "9566"
     },
     "metadata": {},
     "output_type": "display_data"
    },
    {
     "data": {
      "text/plain": "1003"
     },
     "metadata": {},
     "output_type": "display_data"
    },
    {
     "data": {
      "text/plain": "192585"
     },
     "metadata": {},
     "output_type": "display_data"
    },
    {
     "data": {
      "text/plain": "4668"
     },
     "metadata": {},
     "output_type": "display_data"
    },
    {
     "data": {
      "text/plain": "5112"
     },
     "metadata": {},
     "output_type": "display_data"
    }
   ],
   "source": [
    "PATH = '../check'\n",
    "count = 0\n",
    "dfPercentage=pd.DataFrame(columns=['HOUSE','JAN','FEB','MAR','APRIL','MAY','TOT'])\n",
    "dfRows=pd.DataFrame(columns=['HOUSE','JAN','FEB','MAR','APRIL','MAY','TOT'])\n",
    "\n",
    "total_complete_rows = tot_jan+tot_feb+tot_mar+tot_april+tot_may\n",
    "display(total_complete_rows)\n",
    "\n",
    "for r,dir,f in os.walk(PATH):\n",
    "    for d in dir:\n",
    "        DIR_PATH = d\n",
    "        display(DIR_PATH)\n",
    "        count = count + 1\n",
    "        dfPercentage.at[count,'HOUSE'] = DIR_PATH\n",
    "        dfRows.at[count,'HOUSE'] = DIR_PATH\n",
    "        p = os.path.join(r,DIR_PATH)\n",
    "        for r1,d1,f1 in os.walk(p):\n",
    "            for file in f1 :\n",
    "                chunksize = 50000\n",
    "                file_path = os.path.join(PATH,DIR_PATH,file)\n",
    "                df = pd.read_csv(file_path, sep=',', chunksize=chunksize, iterator=True)\n",
    "                df = pd.concat(df, ignore_index=True)\n",
    "                file_name = file.split('.')[0]\n",
    "                #DIR_PATH = HOUSE\n",
    "                process(df,count,dfPercentage,dfRows)               \n",
    "\n",
    "        dfRows = dfRows.fillna(0.0)\n",
    "        \n",
    "        total_rows = dfRows.at[count,'JAN'] +dfRows.at[count,'FEB'] + dfRows.at[count,'MAR'] + dfRows.at[count,'APRIL'] + dfRows.at[count,'MAY']\n",
    "        dfPercentage.at[count,'TOT'] = round(total_rows/total_complete_rows,7)\n",
    "        dfRows.at[count,'TOT'] = total_rows\n",
    "\n",
    "        csv_dir = os.path.join(os.path.abspath('..'),'PERC_Consistency')        \n",
    "        if not os.path.exists(csv_dir):\n",
    "           os.mkdir(csv_dir)\n",
    "    \n",
    "        dfPercentage.to_csv(os.path.join(csv_dir,\"percentage.csv\"),index=False)\n",
    "        dfRows.to_csv(os.path.join(csv_dir,\"total.csv\"),index=False)"
   ],
   "metadata": {
    "collapsed": false,
    "pycharm": {
     "name": "#%%\n",
     "is_executing": false
    }
   }
  }
 ],
 "metadata": {
  "language_info": {
   "codemirror_mode": {
    "name": "ipython",
    "version": 2
   },
   "file_extension": ".py",
   "mimetype": "text/x-python",
   "name": "python",
   "nbconvert_exporter": "python",
   "pygments_lexer": "ipython2",
   "version": "2.7.6"
  },
  "kernelspec": {
   "name": "pycharm-e43341fc",
   "language": "python",
   "display_name": "PyCharm (TESI)"
  },
  "pycharm": {
   "stem_cell": {
    "cell_type": "raw",
    "source": [],
    "metadata": {
     "collapsed": false
    }
   }
  }
 },
 "nbformat": 4,
 "nbformat_minor": 0
}